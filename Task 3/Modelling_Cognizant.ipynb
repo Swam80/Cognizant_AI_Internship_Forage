{
 "cells": [
  {
   "cell_type": "code",
   "execution_count": 2,
   "id": "cc05dbbc",
   "metadata": {},
   "outputs": [],
   "source": [
    "import pandas as pd\n",
    "import numpy as np\n",
    "import seaborn as sns\n",
    "import matplotlib.pyplot as plt\n",
    "\n",
    "# For preprocessing\n",
    "from sklearn.model_selection import train_test_split\n",
    "from sklearn.compose import ColumnTransformer\n",
    "from sklearn.pipeline import Pipeline\n",
    "from sklearn.preprocessing import OneHotEncoder,StandardScaler,MinMaxScaler\n",
    "\n",
    "#For model training and evaluation\n",
    "from sklearn.linear_model import LinearRegression, Lasso, Ridge, ElasticNet\n",
    "from sklearn.tree import DecisionTreeRegressor\n",
    "from sklearn.ensemble import RandomForestRegressor,GradientBoostingRegressor,AdaBoostRegressor\n",
    "from sklearn.svm import SVR\n",
    "from sklearn.metrics import mean_squared_error, mean_absolute_error, r2_score\n",
    "from sklearn.model_selection import cross_val_score,cross_validate\n",
    "\n",
    "\n",
    "%matplotlib inline"
   ]
  },
  {
   "cell_type": "markdown",
   "id": "da8e89cd",
   "metadata": {},
   "source": [
    "### 1. Loading Datasets"
   ]
  },
  {
   "cell_type": "code",
   "execution_count": 18,
   "id": "bc32e112",
   "metadata": {},
   "outputs": [],
   "source": [
    "df_sales = pd.read_csv('sales.csv',index_col=0)\n",
    "df_stock_levels = pd.read_csv(\"sensor_stock_levels.csv\",index_col=0)\n",
    "df_temperature = pd.read_csv(\"sensor_storage_temperature.csv\",index_col=0)"
   ]
  },
  {
   "cell_type": "code",
   "execution_count": 7,
   "id": "48840b7e",
   "metadata": {},
   "outputs": [
    {
     "data": {
      "text/html": [
       "<div>\n",
       "<style scoped>\n",
       "    .dataframe tbody tr th:only-of-type {\n",
       "        vertical-align: middle;\n",
       "    }\n",
       "\n",
       "    .dataframe tbody tr th {\n",
       "        vertical-align: top;\n",
       "    }\n",
       "\n",
       "    .dataframe thead th {\n",
       "        text-align: right;\n",
       "    }\n",
       "</style>\n",
       "<table border=\"1\" class=\"dataframe\">\n",
       "  <thead>\n",
       "    <tr style=\"text-align: right;\">\n",
       "      <th></th>\n",
       "      <th>transaction_id</th>\n",
       "      <th>timestamp</th>\n",
       "      <th>product_id</th>\n",
       "      <th>category</th>\n",
       "      <th>customer_type</th>\n",
       "      <th>unit_price</th>\n",
       "      <th>quantity</th>\n",
       "      <th>total</th>\n",
       "      <th>payment_type</th>\n",
       "    </tr>\n",
       "  </thead>\n",
       "  <tbody>\n",
       "    <tr>\n",
       "      <th>0</th>\n",
       "      <td>a1c82654-c52c-45b3-8ce8-4c2a1efe63ed</td>\n",
       "      <td>2022-03-02 09:51:38</td>\n",
       "      <td>3bc6c1ea-0198-46de-9ffd-514ae3338713</td>\n",
       "      <td>fruit</td>\n",
       "      <td>gold</td>\n",
       "      <td>3.99</td>\n",
       "      <td>2</td>\n",
       "      <td>7.98</td>\n",
       "      <td>e-wallet</td>\n",
       "    </tr>\n",
       "    <tr>\n",
       "      <th>1</th>\n",
       "      <td>931ad550-09e8-4da6-beaa-8c9d17be9c60</td>\n",
       "      <td>2022-03-06 10:33:59</td>\n",
       "      <td>ad81b46c-bf38-41cf-9b54-5fe7f5eba93e</td>\n",
       "      <td>fruit</td>\n",
       "      <td>standard</td>\n",
       "      <td>3.99</td>\n",
       "      <td>1</td>\n",
       "      <td>3.99</td>\n",
       "      <td>e-wallet</td>\n",
       "    </tr>\n",
       "    <tr>\n",
       "      <th>2</th>\n",
       "      <td>ae133534-6f61-4cd6-b6b8-d1c1d8d90aea</td>\n",
       "      <td>2022-03-04 17:20:21</td>\n",
       "      <td>7c55cbd4-f306-4c04-a030-628cbe7867c1</td>\n",
       "      <td>fruit</td>\n",
       "      <td>premium</td>\n",
       "      <td>0.19</td>\n",
       "      <td>2</td>\n",
       "      <td>0.38</td>\n",
       "      <td>e-wallet</td>\n",
       "    </tr>\n",
       "    <tr>\n",
       "      <th>3</th>\n",
       "      <td>157cebd9-aaf0-475d-8a11-7c8e0f5b76e4</td>\n",
       "      <td>2022-03-02 17:23:58</td>\n",
       "      <td>80da8348-1707-403f-8be7-9e6deeccc883</td>\n",
       "      <td>fruit</td>\n",
       "      <td>gold</td>\n",
       "      <td>0.19</td>\n",
       "      <td>4</td>\n",
       "      <td>0.76</td>\n",
       "      <td>e-wallet</td>\n",
       "    </tr>\n",
       "    <tr>\n",
       "      <th>4</th>\n",
       "      <td>a81a6cd3-5e0c-44a2-826c-aea43e46c514</td>\n",
       "      <td>2022-03-05 14:32:43</td>\n",
       "      <td>7f5e86e6-f06f-45f6-bf44-27b095c9ad1d</td>\n",
       "      <td>fruit</td>\n",
       "      <td>basic</td>\n",
       "      <td>4.49</td>\n",
       "      <td>2</td>\n",
       "      <td>8.98</td>\n",
       "      <td>debit card</td>\n",
       "    </tr>\n",
       "  </tbody>\n",
       "</table>\n",
       "</div>"
      ],
      "text/plain": [
       "                         transaction_id            timestamp  \\\n",
       "0  a1c82654-c52c-45b3-8ce8-4c2a1efe63ed  2022-03-02 09:51:38   \n",
       "1  931ad550-09e8-4da6-beaa-8c9d17be9c60  2022-03-06 10:33:59   \n",
       "2  ae133534-6f61-4cd6-b6b8-d1c1d8d90aea  2022-03-04 17:20:21   \n",
       "3  157cebd9-aaf0-475d-8a11-7c8e0f5b76e4  2022-03-02 17:23:58   \n",
       "4  a81a6cd3-5e0c-44a2-826c-aea43e46c514  2022-03-05 14:32:43   \n",
       "\n",
       "                             product_id category customer_type  unit_price  \\\n",
       "0  3bc6c1ea-0198-46de-9ffd-514ae3338713    fruit          gold        3.99   \n",
       "1  ad81b46c-bf38-41cf-9b54-5fe7f5eba93e    fruit      standard        3.99   \n",
       "2  7c55cbd4-f306-4c04-a030-628cbe7867c1    fruit       premium        0.19   \n",
       "3  80da8348-1707-403f-8be7-9e6deeccc883    fruit          gold        0.19   \n",
       "4  7f5e86e6-f06f-45f6-bf44-27b095c9ad1d    fruit         basic        4.49   \n",
       "\n",
       "   quantity  total payment_type  \n",
       "0         2   7.98     e-wallet  \n",
       "1         1   3.99     e-wallet  \n",
       "2         2   0.38     e-wallet  \n",
       "3         4   0.76     e-wallet  \n",
       "4         2   8.98   debit card  "
      ]
     },
     "execution_count": 7,
     "metadata": {},
     "output_type": "execute_result"
    }
   ],
   "source": [
    "df_sales.head()"
   ]
  },
  {
   "cell_type": "code",
   "execution_count": 4,
   "id": "d32e4ee9",
   "metadata": {
    "scrolled": true
   },
   "outputs": [
    {
     "data": {
      "text/html": [
       "<div>\n",
       "<style scoped>\n",
       "    .dataframe tbody tr th:only-of-type {\n",
       "        vertical-align: middle;\n",
       "    }\n",
       "\n",
       "    .dataframe tbody tr th {\n",
       "        vertical-align: top;\n",
       "    }\n",
       "\n",
       "    .dataframe thead th {\n",
       "        text-align: right;\n",
       "    }\n",
       "</style>\n",
       "<table border=\"1\" class=\"dataframe\">\n",
       "  <thead>\n",
       "    <tr style=\"text-align: right;\">\n",
       "      <th></th>\n",
       "      <th>id</th>\n",
       "      <th>timestamp</th>\n",
       "      <th>product_id</th>\n",
       "      <th>estimated_stock_pct</th>\n",
       "    </tr>\n",
       "  </thead>\n",
       "  <tbody>\n",
       "    <tr>\n",
       "      <th>0</th>\n",
       "      <td>4220e505-c247-478d-9831-6b9f87a4488a</td>\n",
       "      <td>2022-03-07 12:13:02</td>\n",
       "      <td>f658605e-75f3-4fed-a655-c0903f344427</td>\n",
       "      <td>0.75</td>\n",
       "    </tr>\n",
       "    <tr>\n",
       "      <th>1</th>\n",
       "      <td>f2612b26-fc82-49ea-8940-0751fdd4d9ef</td>\n",
       "      <td>2022-03-07 16:39:46</td>\n",
       "      <td>de06083a-f5c0-451d-b2f4-9ab88b52609d</td>\n",
       "      <td>0.48</td>\n",
       "    </tr>\n",
       "    <tr>\n",
       "      <th>2</th>\n",
       "      <td>989a287f-67e6-4478-aa49-c3a35dac0e2e</td>\n",
       "      <td>2022-03-01 18:17:43</td>\n",
       "      <td>ce8f3a04-d1a4-43b1-a7c2-fa1b8e7674c8</td>\n",
       "      <td>0.58</td>\n",
       "    </tr>\n",
       "    <tr>\n",
       "      <th>3</th>\n",
       "      <td>af8e5683-d247-46ac-9909-1a77bdebefb2</td>\n",
       "      <td>2022-03-02 14:29:09</td>\n",
       "      <td>c21e3ba9-92a3-4745-92c2-6faef73223f7</td>\n",
       "      <td>0.79</td>\n",
       "    </tr>\n",
       "    <tr>\n",
       "      <th>4</th>\n",
       "      <td>08a32247-3f44-4002-85fb-c198434dd4bb</td>\n",
       "      <td>2022-03-02 13:46:18</td>\n",
       "      <td>7f478817-aa5b-44e9-9059-8045228c9eb0</td>\n",
       "      <td>0.22</td>\n",
       "    </tr>\n",
       "  </tbody>\n",
       "</table>\n",
       "</div>"
      ],
      "text/plain": [
       "                                     id            timestamp  \\\n",
       "0  4220e505-c247-478d-9831-6b9f87a4488a  2022-03-07 12:13:02   \n",
       "1  f2612b26-fc82-49ea-8940-0751fdd4d9ef  2022-03-07 16:39:46   \n",
       "2  989a287f-67e6-4478-aa49-c3a35dac0e2e  2022-03-01 18:17:43   \n",
       "3  af8e5683-d247-46ac-9909-1a77bdebefb2  2022-03-02 14:29:09   \n",
       "4  08a32247-3f44-4002-85fb-c198434dd4bb  2022-03-02 13:46:18   \n",
       "\n",
       "                             product_id  estimated_stock_pct  \n",
       "0  f658605e-75f3-4fed-a655-c0903f344427                 0.75  \n",
       "1  de06083a-f5c0-451d-b2f4-9ab88b52609d                 0.48  \n",
       "2  ce8f3a04-d1a4-43b1-a7c2-fa1b8e7674c8                 0.58  \n",
       "3  c21e3ba9-92a3-4745-92c2-6faef73223f7                 0.79  \n",
       "4  7f478817-aa5b-44e9-9059-8045228c9eb0                 0.22  "
      ]
     },
     "execution_count": 4,
     "metadata": {},
     "output_type": "execute_result"
    }
   ],
   "source": [
    "df_stock_levels.head()"
   ]
  },
  {
   "cell_type": "code",
   "execution_count": 5,
   "id": "bb0b1118",
   "metadata": {},
   "outputs": [
    {
     "data": {
      "text/html": [
       "<div>\n",
       "<style scoped>\n",
       "    .dataframe tbody tr th:only-of-type {\n",
       "        vertical-align: middle;\n",
       "    }\n",
       "\n",
       "    .dataframe tbody tr th {\n",
       "        vertical-align: top;\n",
       "    }\n",
       "\n",
       "    .dataframe thead th {\n",
       "        text-align: right;\n",
       "    }\n",
       "</style>\n",
       "<table border=\"1\" class=\"dataframe\">\n",
       "  <thead>\n",
       "    <tr style=\"text-align: right;\">\n",
       "      <th></th>\n",
       "      <th>id</th>\n",
       "      <th>timestamp</th>\n",
       "      <th>temperature</th>\n",
       "    </tr>\n",
       "  </thead>\n",
       "  <tbody>\n",
       "    <tr>\n",
       "      <th>0</th>\n",
       "      <td>d1ca1ef8-0eac-42fc-af80-97106efc7b13</td>\n",
       "      <td>2022-03-07 15:55:20</td>\n",
       "      <td>2.96</td>\n",
       "    </tr>\n",
       "    <tr>\n",
       "      <th>1</th>\n",
       "      <td>4b8a66c4-0f3a-4f16-826f-8cf9397e9d18</td>\n",
       "      <td>2022-03-01 09:18:22</td>\n",
       "      <td>1.88</td>\n",
       "    </tr>\n",
       "    <tr>\n",
       "      <th>2</th>\n",
       "      <td>3d47a0c7-1e72-4512-812f-b6b5d8428cf3</td>\n",
       "      <td>2022-03-04 15:12:26</td>\n",
       "      <td>1.78</td>\n",
       "    </tr>\n",
       "    <tr>\n",
       "      <th>3</th>\n",
       "      <td>9500357b-ce15-424a-837a-7677b386f471</td>\n",
       "      <td>2022-03-02 12:30:42</td>\n",
       "      <td>2.18</td>\n",
       "    </tr>\n",
       "    <tr>\n",
       "      <th>4</th>\n",
       "      <td>c4b61fec-99c2-4c6d-8e5d-4edd8c9632fa</td>\n",
       "      <td>2022-03-05 09:09:33</td>\n",
       "      <td>1.38</td>\n",
       "    </tr>\n",
       "    <tr>\n",
       "      <th>...</th>\n",
       "      <td>...</td>\n",
       "      <td>...</td>\n",
       "      <td>...</td>\n",
       "    </tr>\n",
       "    <tr>\n",
       "      <th>23885</th>\n",
       "      <td>17bcff56-9965-4e9f-ad5f-107f0f3be93f</td>\n",
       "      <td>2022-03-01 10:40:43</td>\n",
       "      <td>-1.46</td>\n",
       "    </tr>\n",
       "    <tr>\n",
       "      <th>23886</th>\n",
       "      <td>51d4eb44-04bd-4d6a-b777-0653bc173303</td>\n",
       "      <td>2022-03-05 17:07:49</td>\n",
       "      <td>-19.37</td>\n",
       "    </tr>\n",
       "    <tr>\n",
       "      <th>23887</th>\n",
       "      <td>bbcacfc4-3b59-47ee-b9e1-7dd3bd588748</td>\n",
       "      <td>2022-03-01 16:15:41</td>\n",
       "      <td>-2.89</td>\n",
       "    </tr>\n",
       "    <tr>\n",
       "      <th>23888</th>\n",
       "      <td>5c4d567b-4bcf-4fcd-86b7-e2db5de6e439</td>\n",
       "      <td>2022-03-07 14:44:52</td>\n",
       "      <td>-2.56</td>\n",
       "    </tr>\n",
       "    <tr>\n",
       "      <th>23889</th>\n",
       "      <td>589c28e1-f1f3-4efb-af6d-9f194c4d7d5b</td>\n",
       "      <td>2022-03-01 16:33:41</td>\n",
       "      <td>0.13</td>\n",
       "    </tr>\n",
       "  </tbody>\n",
       "</table>\n",
       "<p>23890 rows × 3 columns</p>\n",
       "</div>"
      ],
      "text/plain": [
       "                                         id            timestamp  temperature\n",
       "0      d1ca1ef8-0eac-42fc-af80-97106efc7b13  2022-03-07 15:55:20         2.96\n",
       "1      4b8a66c4-0f3a-4f16-826f-8cf9397e9d18  2022-03-01 09:18:22         1.88\n",
       "2      3d47a0c7-1e72-4512-812f-b6b5d8428cf3  2022-03-04 15:12:26         1.78\n",
       "3      9500357b-ce15-424a-837a-7677b386f471  2022-03-02 12:30:42         2.18\n",
       "4      c4b61fec-99c2-4c6d-8e5d-4edd8c9632fa  2022-03-05 09:09:33         1.38\n",
       "...                                     ...                  ...          ...\n",
       "23885  17bcff56-9965-4e9f-ad5f-107f0f3be93f  2022-03-01 10:40:43        -1.46\n",
       "23886  51d4eb44-04bd-4d6a-b777-0653bc173303  2022-03-05 17:07:49       -19.37\n",
       "23887  bbcacfc4-3b59-47ee-b9e1-7dd3bd588748  2022-03-01 16:15:41        -2.89\n",
       "23888  5c4d567b-4bcf-4fcd-86b7-e2db5de6e439  2022-03-07 14:44:52        -2.56\n",
       "23889  589c28e1-f1f3-4efb-af6d-9f194c4d7d5b  2022-03-01 16:33:41         0.13\n",
       "\n",
       "[23890 rows x 3 columns]"
      ]
     },
     "execution_count": 5,
     "metadata": {},
     "output_type": "execute_result"
    }
   ],
   "source": [
    "df_temperature"
   ]
  },
  {
   "cell_type": "markdown",
   "id": "9b59f091",
   "metadata": {},
   "source": [
    "### Table Description:\n",
    "* sales = sales data\n",
    "* sensor_storage_temperature = IoT data from the temperature sensors in the storage facility for the products\n",
    "* sensor_stock_levels = estimated stock levels of products based on IoT sensors\n"
   ]
  },
  {
   "cell_type": "markdown",
   "id": "43e27824",
   "metadata": {},
   "source": [
    "### 2. Data information"
   ]
  },
  {
   "cell_type": "code",
   "execution_count": 6,
   "id": "f71f2dfc",
   "metadata": {},
   "outputs": [
    {
     "name": "stdout",
     "output_type": "stream",
     "text": [
      "<class 'pandas.core.frame.DataFrame'>\n",
      "Int64Index: 7829 entries, 0 to 7828\n",
      "Data columns (total 9 columns):\n",
      " #   Column          Non-Null Count  Dtype  \n",
      "---  ------          --------------  -----  \n",
      " 0   transaction_id  7829 non-null   object \n",
      " 1   timestamp       7829 non-null   object \n",
      " 2   product_id      7829 non-null   object \n",
      " 3   category        7829 non-null   object \n",
      " 4   customer_type   7829 non-null   object \n",
      " 5   unit_price      7829 non-null   float64\n",
      " 6   quantity        7829 non-null   int64  \n",
      " 7   total           7829 non-null   float64\n",
      " 8   payment_type    7829 non-null   object \n",
      "dtypes: float64(2), int64(1), object(6)\n",
      "memory usage: 611.6+ KB\n"
     ]
    }
   ],
   "source": [
    "df_sales.info()"
   ]
  },
  {
   "cell_type": "code",
   "execution_count": 7,
   "id": "cbef7202",
   "metadata": {},
   "outputs": [
    {
     "data": {
      "text/plain": [
       "transaction_id    0\n",
       "timestamp         0\n",
       "product_id        0\n",
       "category          0\n",
       "customer_type     0\n",
       "unit_price        0\n",
       "quantity          0\n",
       "total             0\n",
       "payment_type      0\n",
       "dtype: int64"
      ]
     },
     "execution_count": 7,
     "metadata": {},
     "output_type": "execute_result"
    }
   ],
   "source": [
    "df_sales.isnull().sum()"
   ]
  },
  {
   "cell_type": "code",
   "execution_count": 8,
   "id": "a2115080",
   "metadata": {},
   "outputs": [
    {
     "name": "stdout",
     "output_type": "stream",
     "text": [
      "<class 'pandas.core.frame.DataFrame'>\n",
      "Int64Index: 15000 entries, 0 to 14999\n",
      "Data columns (total 4 columns):\n",
      " #   Column               Non-Null Count  Dtype  \n",
      "---  ------               --------------  -----  \n",
      " 0   id                   15000 non-null  object \n",
      " 1   timestamp            15000 non-null  object \n",
      " 2   product_id           15000 non-null  object \n",
      " 3   estimated_stock_pct  15000 non-null  float64\n",
      "dtypes: float64(1), object(3)\n",
      "memory usage: 585.9+ KB\n"
     ]
    }
   ],
   "source": [
    "df_stock_levels.info()"
   ]
  },
  {
   "cell_type": "code",
   "execution_count": 9,
   "id": "b3556ed7",
   "metadata": {},
   "outputs": [
    {
     "data": {
      "text/plain": [
       "id                     0\n",
       "timestamp              0\n",
       "product_id             0\n",
       "estimated_stock_pct    0\n",
       "dtype: int64"
      ]
     },
     "execution_count": 9,
     "metadata": {},
     "output_type": "execute_result"
    }
   ],
   "source": [
    "df_stock_levels.isnull().sum()"
   ]
  },
  {
   "cell_type": "code",
   "execution_count": 10,
   "id": "1f25b7ca",
   "metadata": {},
   "outputs": [
    {
     "data": {
      "text/html": [
       "<div>\n",
       "<style scoped>\n",
       "    .dataframe tbody tr th:only-of-type {\n",
       "        vertical-align: middle;\n",
       "    }\n",
       "\n",
       "    .dataframe tbody tr th {\n",
       "        vertical-align: top;\n",
       "    }\n",
       "\n",
       "    .dataframe thead th {\n",
       "        text-align: right;\n",
       "    }\n",
       "</style>\n",
       "<table border=\"1\" class=\"dataframe\">\n",
       "  <thead>\n",
       "    <tr style=\"text-align: right;\">\n",
       "      <th></th>\n",
       "      <th>estimated_stock_pct</th>\n",
       "    </tr>\n",
       "  </thead>\n",
       "  <tbody>\n",
       "    <tr>\n",
       "      <th>count</th>\n",
       "      <td>15000.000000</td>\n",
       "    </tr>\n",
       "    <tr>\n",
       "      <th>mean</th>\n",
       "      <td>0.502735</td>\n",
       "    </tr>\n",
       "    <tr>\n",
       "      <th>std</th>\n",
       "      <td>0.286842</td>\n",
       "    </tr>\n",
       "    <tr>\n",
       "      <th>min</th>\n",
       "      <td>0.010000</td>\n",
       "    </tr>\n",
       "    <tr>\n",
       "      <th>25%</th>\n",
       "      <td>0.260000</td>\n",
       "    </tr>\n",
       "    <tr>\n",
       "      <th>50%</th>\n",
       "      <td>0.500000</td>\n",
       "    </tr>\n",
       "    <tr>\n",
       "      <th>75%</th>\n",
       "      <td>0.750000</td>\n",
       "    </tr>\n",
       "    <tr>\n",
       "      <th>max</th>\n",
       "      <td>1.000000</td>\n",
       "    </tr>\n",
       "  </tbody>\n",
       "</table>\n",
       "</div>"
      ],
      "text/plain": [
       "       estimated_stock_pct\n",
       "count         15000.000000\n",
       "mean              0.502735\n",
       "std               0.286842\n",
       "min               0.010000\n",
       "25%               0.260000\n",
       "50%               0.500000\n",
       "75%               0.750000\n",
       "max               1.000000"
      ]
     },
     "execution_count": 10,
     "metadata": {},
     "output_type": "execute_result"
    }
   ],
   "source": [
    "df_stock_levels.describe()"
   ]
  },
  {
   "cell_type": "code",
   "execution_count": 11,
   "id": "568081d2",
   "metadata": {},
   "outputs": [
    {
     "name": "stdout",
     "output_type": "stream",
     "text": [
      "<class 'pandas.core.frame.DataFrame'>\n",
      "Int64Index: 23890 entries, 0 to 23889\n",
      "Data columns (total 3 columns):\n",
      " #   Column       Non-Null Count  Dtype  \n",
      "---  ------       --------------  -----  \n",
      " 0   id           23890 non-null  object \n",
      " 1   timestamp    23890 non-null  object \n",
      " 2   temperature  23890 non-null  float64\n",
      "dtypes: float64(1), object(2)\n",
      "memory usage: 746.6+ KB\n"
     ]
    }
   ],
   "source": [
    "df_temperature.info()"
   ]
  },
  {
   "cell_type": "code",
   "execution_count": 19,
   "id": "c722fd83",
   "metadata": {},
   "outputs": [
    {
     "data": {
      "text/plain": [
       "id             0\n",
       "timestamp      0\n",
       "temperature    0\n",
       "dtype: int64"
      ]
     },
     "execution_count": 19,
     "metadata": {},
     "output_type": "execute_result"
    }
   ],
   "source": [
    "df_temperature.isnull().sum()"
   ]
  },
  {
   "cell_type": "code",
   "execution_count": 13,
   "id": "87306dc0",
   "metadata": {},
   "outputs": [
    {
     "data": {
      "text/html": [
       "<div>\n",
       "<style scoped>\n",
       "    .dataframe tbody tr th:only-of-type {\n",
       "        vertical-align: middle;\n",
       "    }\n",
       "\n",
       "    .dataframe tbody tr th {\n",
       "        vertical-align: top;\n",
       "    }\n",
       "\n",
       "    .dataframe thead th {\n",
       "        text-align: right;\n",
       "    }\n",
       "</style>\n",
       "<table border=\"1\" class=\"dataframe\">\n",
       "  <thead>\n",
       "    <tr style=\"text-align: right;\">\n",
       "      <th></th>\n",
       "      <th>temperature</th>\n",
       "    </tr>\n",
       "  </thead>\n",
       "  <tbody>\n",
       "    <tr>\n",
       "      <th>count</th>\n",
       "      <td>23890.000000</td>\n",
       "    </tr>\n",
       "    <tr>\n",
       "      <th>mean</th>\n",
       "      <td>-0.207075</td>\n",
       "    </tr>\n",
       "    <tr>\n",
       "      <th>std</th>\n",
       "      <td>11.217649</td>\n",
       "    </tr>\n",
       "    <tr>\n",
       "      <th>min</th>\n",
       "      <td>-30.990000</td>\n",
       "    </tr>\n",
       "    <tr>\n",
       "      <th>25%</th>\n",
       "      <td>-2.860000</td>\n",
       "    </tr>\n",
       "    <tr>\n",
       "      <th>50%</th>\n",
       "      <td>-1.000000</td>\n",
       "    </tr>\n",
       "    <tr>\n",
       "      <th>75%</th>\n",
       "      <td>1.840000</td>\n",
       "    </tr>\n",
       "    <tr>\n",
       "      <th>max</th>\n",
       "      <td>34.990000</td>\n",
       "    </tr>\n",
       "  </tbody>\n",
       "</table>\n",
       "</div>"
      ],
      "text/plain": [
       "        temperature\n",
       "count  23890.000000\n",
       "mean      -0.207075\n",
       "std       11.217649\n",
       "min      -30.990000\n",
       "25%       -2.860000\n",
       "50%       -1.000000\n",
       "75%        1.840000\n",
       "max       34.990000"
      ]
     },
     "execution_count": 13,
     "metadata": {},
     "output_type": "execute_result"
    }
   ],
   "source": [
    "df_temperature.describe()"
   ]
  },
  {
   "cell_type": "markdown",
   "id": "35623262",
   "metadata": {},
   "source": [
    "* __There are no null values in any table__\n",
    "* __Mean estimated stock pct is 50% and mean temperature is -0.2 where as max goes to 34__\n"
   ]
  },
  {
   "cell_type": "markdown",
   "id": "91fa06f8",
   "metadata": {},
   "source": [
    "### 3. Convert timestamp to datetime format"
   ]
  },
  {
   "cell_type": "code",
   "execution_count": 20,
   "id": "0a2137da",
   "metadata": {},
   "outputs": [],
   "source": [
    "dataframes = [df_sales,df_stock_levels,df_temperature]\n",
    "\n",
    "for i in dataframes:\n",
    "    i['timestamp'] = pd.to_datetime(i['timestamp'])"
   ]
  },
  {
   "cell_type": "code",
   "execution_count": 21,
   "id": "a26ff228",
   "metadata": {},
   "outputs": [
    {
     "name": "stdout",
     "output_type": "stream",
     "text": [
      "<class 'pandas.core.frame.DataFrame'>\n",
      "Int64Index: 23890 entries, 0 to 23889\n",
      "Data columns (total 3 columns):\n",
      " #   Column       Non-Null Count  Dtype         \n",
      "---  ------       --------------  -----         \n",
      " 0   id           23890 non-null  object        \n",
      " 1   timestamp    23890 non-null  datetime64[ns]\n",
      " 2   temperature  23890 non-null  float64       \n",
      "dtypes: datetime64[ns](1), float64(1), object(1)\n",
      "memory usage: 746.6+ KB\n"
     ]
    }
   ],
   "source": [
    "df_temperature.info()"
   ]
  },
  {
   "cell_type": "code",
   "execution_count": 16,
   "id": "fdadb30b",
   "metadata": {},
   "outputs": [
    {
     "data": {
      "text/plain": [
       "(Timestamp('2022-03-01 09:00:13'), Timestamp('2022-03-07 19:59:54'))"
      ]
     },
     "execution_count": 16,
     "metadata": {},
     "output_type": "execute_result"
    }
   ],
   "source": [
    "df_sales['timestamp'].min() , df_sales['timestamp'].max()"
   ]
  },
  {
   "cell_type": "code",
   "execution_count": 17,
   "id": "e4f3f60e",
   "metadata": {},
   "outputs": [
    {
     "data": {
      "text/plain": [
       "(Timestamp('2022-03-01 09:00:03'), Timestamp('2022-03-07 19:59:22'))"
      ]
     },
     "execution_count": 17,
     "metadata": {},
     "output_type": "execute_result"
    }
   ],
   "source": [
    "df_stock_levels['timestamp'].min() , df_stock_levels['timestamp'].max()"
   ]
  },
  {
   "cell_type": "code",
   "execution_count": 18,
   "id": "86cdf257",
   "metadata": {},
   "outputs": [
    {
     "data": {
      "text/plain": [
       "(Timestamp('2022-03-01 09:00:08'), Timestamp('2022-03-07 19:59:50'))"
      ]
     },
     "execution_count": 18,
     "metadata": {},
     "output_type": "execute_result"
    }
   ],
   "source": [
    "df_temperature['timestamp'].min() , df_temperature['timestamp'].max()"
   ]
  },
  {
   "cell_type": "markdown",
   "id": "cf6a8e24",
   "metadata": {},
   "source": [
    "__The data is of one week's time__"
   ]
  },
  {
   "cell_type": "markdown",
   "id": "9173d77a",
   "metadata": {},
   "source": [
    "### 4. Merging datasets"
   ]
  },
  {
   "cell_type": "markdown",
   "id": "1e7ac385",
   "metadata": {},
   "source": [
    "__Problem Statement :-__\n",
    "* Can we accurately predict the stock levels of products based on sales data and sensor data on an hourly basis in order to more intelligently procure products from our suppliers?”\n",
    "* Since we need hourly basis data, we need to modify timestamp column accordingly"
   ]
  },
  {
   "cell_type": "code",
   "execution_count": 22,
   "id": "97d9e7b8",
   "metadata": {},
   "outputs": [],
   "source": [
    "df_sales['timestamp_hourly'] = df_sales['timestamp'].dt.to_period(freq = 'H')\n",
    "df_stock_levels['timestamp_hourly'] = df_stock_levels['timestamp'].dt.to_period(freq = 'H')\n",
    "df_temperature['timestamp_hourly'] = df_temperature['timestamp'].dt.to_period(freq = 'H')"
   ]
  },
  {
   "cell_type": "markdown",
   "id": "88d46064",
   "metadata": {},
   "source": [
    "### In order to merge data, lets aggregate them on timestamp_hourly and product_id"
   ]
  },
  {
   "cell_type": "code",
   "execution_count": 23,
   "id": "cb93bc70",
   "metadata": {},
   "outputs": [],
   "source": [
    "df_sales_agg = df_sales.groupby(['timestamp_hourly', 'product_id']).agg({'quantity': 'sum'}).reset_index()\n",
    "df_stock_levels_agg = df_stock_levels.groupby(['timestamp_hourly', 'product_id']).agg({'estimated_stock_pct': 'mean'}).reset_index()\n",
    "df_temperature_agg = df_temperature.groupby('timestamp_hourly').agg({'temperature': 'mean'}).reset_index()"
   ]
  },
  {
   "cell_type": "markdown",
   "id": "151b7098",
   "metadata": {},
   "source": [
    "#### Since we need to predict stock levels of products based on  sales data and sensor data, we will keep stock aggregate dataset as base"
   ]
  },
  {
   "cell_type": "code",
   "execution_count": 24,
   "id": "02f0f9f2",
   "metadata": {},
   "outputs": [
    {
     "data": {
      "text/html": [
       "<div>\n",
       "<style scoped>\n",
       "    .dataframe tbody tr th:only-of-type {\n",
       "        vertical-align: middle;\n",
       "    }\n",
       "\n",
       "    .dataframe tbody tr th {\n",
       "        vertical-align: top;\n",
       "    }\n",
       "\n",
       "    .dataframe thead th {\n",
       "        text-align: right;\n",
       "    }\n",
       "</style>\n",
       "<table border=\"1\" class=\"dataframe\">\n",
       "  <thead>\n",
       "    <tr style=\"text-align: right;\">\n",
       "      <th></th>\n",
       "      <th>timestamp_hourly</th>\n",
       "      <th>product_id</th>\n",
       "      <th>estimated_stock_pct</th>\n",
       "      <th>quantity</th>\n",
       "    </tr>\n",
       "  </thead>\n",
       "  <tbody>\n",
       "    <tr>\n",
       "      <th>0</th>\n",
       "      <td>2022-03-01 09:00</td>\n",
       "      <td>00e120bb-89d6-4df5-bc48-a051148e3d03</td>\n",
       "      <td>0.89</td>\n",
       "      <td>3.0</td>\n",
       "    </tr>\n",
       "    <tr>\n",
       "      <th>1</th>\n",
       "      <td>2022-03-01 09:00</td>\n",
       "      <td>01f3cdd9-8e9e-4dff-9b5c-69698a0388d0</td>\n",
       "      <td>0.14</td>\n",
       "      <td>3.0</td>\n",
       "    </tr>\n",
       "    <tr>\n",
       "      <th>2</th>\n",
       "      <td>2022-03-01 09:00</td>\n",
       "      <td>01ff0803-ae73-4234-971d-5713c97b7f4b</td>\n",
       "      <td>0.67</td>\n",
       "      <td>NaN</td>\n",
       "    </tr>\n",
       "    <tr>\n",
       "      <th>3</th>\n",
       "      <td>2022-03-01 09:00</td>\n",
       "      <td>0363eb21-8c74-47e1-a216-c37e565e5ceb</td>\n",
       "      <td>0.82</td>\n",
       "      <td>NaN</td>\n",
       "    </tr>\n",
       "    <tr>\n",
       "      <th>4</th>\n",
       "      <td>2022-03-01 09:00</td>\n",
       "      <td>03f0b20e-3b5b-444f-bc39-cdfa2523d4bc</td>\n",
       "      <td>0.05</td>\n",
       "      <td>NaN</td>\n",
       "    </tr>\n",
       "  </tbody>\n",
       "</table>\n",
       "</div>"
      ],
      "text/plain": [
       "   timestamp_hourly                            product_id  \\\n",
       "0  2022-03-01 09:00  00e120bb-89d6-4df5-bc48-a051148e3d03   \n",
       "1  2022-03-01 09:00  01f3cdd9-8e9e-4dff-9b5c-69698a0388d0   \n",
       "2  2022-03-01 09:00  01ff0803-ae73-4234-971d-5713c97b7f4b   \n",
       "3  2022-03-01 09:00  0363eb21-8c74-47e1-a216-c37e565e5ceb   \n",
       "4  2022-03-01 09:00  03f0b20e-3b5b-444f-bc39-cdfa2523d4bc   \n",
       "\n",
       "   estimated_stock_pct  quantity  \n",
       "0                 0.89       3.0  \n",
       "1                 0.14       3.0  \n",
       "2                 0.67       NaN  \n",
       "3                 0.82       NaN  \n",
       "4                 0.05       NaN  "
      ]
     },
     "execution_count": 24,
     "metadata": {},
     "output_type": "execute_result"
    }
   ],
   "source": [
    "merged_df = df_stock_levels_agg.merge(df_sales_agg, on=['timestamp_hourly', 'product_id'], how='left')\n",
    "merged_df.head()"
   ]
  },
  {
   "cell_type": "code",
   "execution_count": 25,
   "id": "54eac911",
   "metadata": {},
   "outputs": [
    {
     "data": {
      "text/html": [
       "<div>\n",
       "<style scoped>\n",
       "    .dataframe tbody tr th:only-of-type {\n",
       "        vertical-align: middle;\n",
       "    }\n",
       "\n",
       "    .dataframe tbody tr th {\n",
       "        vertical-align: top;\n",
       "    }\n",
       "\n",
       "    .dataframe thead th {\n",
       "        text-align: right;\n",
       "    }\n",
       "</style>\n",
       "<table border=\"1\" class=\"dataframe\">\n",
       "  <thead>\n",
       "    <tr style=\"text-align: right;\">\n",
       "      <th></th>\n",
       "      <th>timestamp_hourly</th>\n",
       "      <th>product_id</th>\n",
       "      <th>estimated_stock_pct</th>\n",
       "      <th>quantity</th>\n",
       "      <th>temperature</th>\n",
       "    </tr>\n",
       "  </thead>\n",
       "  <tbody>\n",
       "    <tr>\n",
       "      <th>0</th>\n",
       "      <td>2022-03-01 09:00</td>\n",
       "      <td>00e120bb-89d6-4df5-bc48-a051148e3d03</td>\n",
       "      <td>0.89</td>\n",
       "      <td>3.0</td>\n",
       "      <td>-0.02885</td>\n",
       "    </tr>\n",
       "    <tr>\n",
       "      <th>1</th>\n",
       "      <td>2022-03-01 09:00</td>\n",
       "      <td>01f3cdd9-8e9e-4dff-9b5c-69698a0388d0</td>\n",
       "      <td>0.14</td>\n",
       "      <td>3.0</td>\n",
       "      <td>-0.02885</td>\n",
       "    </tr>\n",
       "    <tr>\n",
       "      <th>2</th>\n",
       "      <td>2022-03-01 09:00</td>\n",
       "      <td>01ff0803-ae73-4234-971d-5713c97b7f4b</td>\n",
       "      <td>0.67</td>\n",
       "      <td>NaN</td>\n",
       "      <td>-0.02885</td>\n",
       "    </tr>\n",
       "    <tr>\n",
       "      <th>3</th>\n",
       "      <td>2022-03-01 09:00</td>\n",
       "      <td>0363eb21-8c74-47e1-a216-c37e565e5ceb</td>\n",
       "      <td>0.82</td>\n",
       "      <td>NaN</td>\n",
       "      <td>-0.02885</td>\n",
       "    </tr>\n",
       "    <tr>\n",
       "      <th>4</th>\n",
       "      <td>2022-03-01 09:00</td>\n",
       "      <td>03f0b20e-3b5b-444f-bc39-cdfa2523d4bc</td>\n",
       "      <td>0.05</td>\n",
       "      <td>NaN</td>\n",
       "      <td>-0.02885</td>\n",
       "    </tr>\n",
       "  </tbody>\n",
       "</table>\n",
       "</div>"
      ],
      "text/plain": [
       "   timestamp_hourly                            product_id  \\\n",
       "0  2022-03-01 09:00  00e120bb-89d6-4df5-bc48-a051148e3d03   \n",
       "1  2022-03-01 09:00  01f3cdd9-8e9e-4dff-9b5c-69698a0388d0   \n",
       "2  2022-03-01 09:00  01ff0803-ae73-4234-971d-5713c97b7f4b   \n",
       "3  2022-03-01 09:00  0363eb21-8c74-47e1-a216-c37e565e5ceb   \n",
       "4  2022-03-01 09:00  03f0b20e-3b5b-444f-bc39-cdfa2523d4bc   \n",
       "\n",
       "   estimated_stock_pct  quantity  temperature  \n",
       "0                 0.89       3.0     -0.02885  \n",
       "1                 0.14       3.0     -0.02885  \n",
       "2                 0.67       NaN     -0.02885  \n",
       "3                 0.82       NaN     -0.02885  \n",
       "4                 0.05       NaN     -0.02885  "
      ]
     },
     "execution_count": 25,
     "metadata": {},
     "output_type": "execute_result"
    }
   ],
   "source": [
    "merged_df = merged_df.merge(df_temperature_agg,on=['timestamp_hourly'],how='left')\n",
    "merged_df.head()"
   ]
  },
  {
   "cell_type": "code",
   "execution_count": 26,
   "id": "2e8cd5a1",
   "metadata": {},
   "outputs": [
    {
     "name": "stdout",
     "output_type": "stream",
     "text": [
      "<class 'pandas.core.frame.DataFrame'>\n",
      "Int64Index: 10845 entries, 0 to 10844\n",
      "Data columns (total 5 columns):\n",
      " #   Column               Non-Null Count  Dtype    \n",
      "---  ------               --------------  -----    \n",
      " 0   timestamp_hourly     10845 non-null  period[H]\n",
      " 1   product_id           10845 non-null  object   \n",
      " 2   estimated_stock_pct  10845 non-null  float64  \n",
      " 3   quantity             3067 non-null   float64  \n",
      " 4   temperature          10845 non-null  float64  \n",
      "dtypes: float64(3), object(1), period[H](1)\n",
      "memory usage: 508.4+ KB\n"
     ]
    }
   ],
   "source": [
    "merged_df.info()"
   ]
  },
  {
   "cell_type": "markdown",
   "id": "b7f21429",
   "metadata": {},
   "source": [
    "#### There are few null values in quantity. This is because, not necessary every product at every hour of the day had to be sold.\n",
    "\n",
    "* __We can replace null values with 0 products sold__"
   ]
  },
  {
   "cell_type": "code",
   "execution_count": 27,
   "id": "7c3292a6",
   "metadata": {},
   "outputs": [
    {
     "data": {
      "text/plain": [
       "timestamp_hourly          0\n",
       "product_id                0\n",
       "estimated_stock_pct       0\n",
       "quantity               7778\n",
       "temperature               0\n",
       "dtype: int64"
      ]
     },
     "execution_count": 27,
     "metadata": {},
     "output_type": "execute_result"
    }
   ],
   "source": [
    "merged_df.isnull().sum()"
   ]
  },
  {
   "cell_type": "code",
   "execution_count": 28,
   "id": "83887e4d",
   "metadata": {},
   "outputs": [],
   "source": [
    "merged_df['quantity'] = merged_df['quantity'].fillna(0)\n"
   ]
  },
  {
   "cell_type": "code",
   "execution_count": 29,
   "id": "f226a411",
   "metadata": {},
   "outputs": [
    {
     "data": {
      "text/html": [
       "<div>\n",
       "<style scoped>\n",
       "    .dataframe tbody tr th:only-of-type {\n",
       "        vertical-align: middle;\n",
       "    }\n",
       "\n",
       "    .dataframe tbody tr th {\n",
       "        vertical-align: top;\n",
       "    }\n",
       "\n",
       "    .dataframe thead th {\n",
       "        text-align: right;\n",
       "    }\n",
       "</style>\n",
       "<table border=\"1\" class=\"dataframe\">\n",
       "  <thead>\n",
       "    <tr style=\"text-align: right;\">\n",
       "      <th></th>\n",
       "      <th>timestamp_hourly</th>\n",
       "      <th>product_id</th>\n",
       "      <th>estimated_stock_pct</th>\n",
       "      <th>quantity</th>\n",
       "      <th>temperature</th>\n",
       "    </tr>\n",
       "  </thead>\n",
       "  <tbody>\n",
       "    <tr>\n",
       "      <th>0</th>\n",
       "      <td>2022-03-01 09:00</td>\n",
       "      <td>00e120bb-89d6-4df5-bc48-a051148e3d03</td>\n",
       "      <td>0.89</td>\n",
       "      <td>3.0</td>\n",
       "      <td>-0.02885</td>\n",
       "    </tr>\n",
       "    <tr>\n",
       "      <th>1</th>\n",
       "      <td>2022-03-01 09:00</td>\n",
       "      <td>01f3cdd9-8e9e-4dff-9b5c-69698a0388d0</td>\n",
       "      <td>0.14</td>\n",
       "      <td>3.0</td>\n",
       "      <td>-0.02885</td>\n",
       "    </tr>\n",
       "    <tr>\n",
       "      <th>2</th>\n",
       "      <td>2022-03-01 09:00</td>\n",
       "      <td>01ff0803-ae73-4234-971d-5713c97b7f4b</td>\n",
       "      <td>0.67</td>\n",
       "      <td>0.0</td>\n",
       "      <td>-0.02885</td>\n",
       "    </tr>\n",
       "    <tr>\n",
       "      <th>3</th>\n",
       "      <td>2022-03-01 09:00</td>\n",
       "      <td>0363eb21-8c74-47e1-a216-c37e565e5ceb</td>\n",
       "      <td>0.82</td>\n",
       "      <td>0.0</td>\n",
       "      <td>-0.02885</td>\n",
       "    </tr>\n",
       "    <tr>\n",
       "      <th>4</th>\n",
       "      <td>2022-03-01 09:00</td>\n",
       "      <td>03f0b20e-3b5b-444f-bc39-cdfa2523d4bc</td>\n",
       "      <td>0.05</td>\n",
       "      <td>0.0</td>\n",
       "      <td>-0.02885</td>\n",
       "    </tr>\n",
       "  </tbody>\n",
       "</table>\n",
       "</div>"
      ],
      "text/plain": [
       "   timestamp_hourly                            product_id  \\\n",
       "0  2022-03-01 09:00  00e120bb-89d6-4df5-bc48-a051148e3d03   \n",
       "1  2022-03-01 09:00  01f3cdd9-8e9e-4dff-9b5c-69698a0388d0   \n",
       "2  2022-03-01 09:00  01ff0803-ae73-4234-971d-5713c97b7f4b   \n",
       "3  2022-03-01 09:00  0363eb21-8c74-47e1-a216-c37e565e5ceb   \n",
       "4  2022-03-01 09:00  03f0b20e-3b5b-444f-bc39-cdfa2523d4bc   \n",
       "\n",
       "   estimated_stock_pct  quantity  temperature  \n",
       "0                 0.89       3.0     -0.02885  \n",
       "1                 0.14       3.0     -0.02885  \n",
       "2                 0.67       0.0     -0.02885  \n",
       "3                 0.82       0.0     -0.02885  \n",
       "4                 0.05       0.0     -0.02885  "
      ]
     },
     "execution_count": 29,
     "metadata": {},
     "output_type": "execute_result"
    }
   ],
   "source": [
    "merged_df.head()"
   ]
  },
  {
   "cell_type": "markdown",
   "id": "cd4bbd3c",
   "metadata": {
    "id": "YmS-GbxdkDkE"
   },
   "source": [
    "We can combine some more features onto this table too, including category,customer type and unit_price."
   ]
  },
  {
   "cell_type": "code",
   "execution_count": 30,
   "id": "16bf697f",
   "metadata": {},
   "outputs": [],
   "source": [
    "product_categories = df_sales[['product_id','category']]\n",
    "product_categories = product_categories.drop_duplicates()\n",
    "\n",
    "product_price = df_sales[['product_id', 'unit_price']]\n",
    "product_price = product_price.drop_duplicates()\n"
   ]
  },
  {
   "cell_type": "markdown",
   "id": "21c98987",
   "metadata": {},
   "source": [
    "__Now merging this on merged df__"
   ]
  },
  {
   "cell_type": "code",
   "execution_count": 31,
   "id": "826085cb",
   "metadata": {},
   "outputs": [],
   "source": [
    "merged_df = merged_df.merge(product_categories,on='product_id',how='left')"
   ]
  },
  {
   "cell_type": "code",
   "execution_count": 32,
   "id": "8a91677a",
   "metadata": {},
   "outputs": [],
   "source": [
    "merged_df = merged_df.merge(product_price,on='product_id',how='left')"
   ]
  },
  {
   "cell_type": "code",
   "execution_count": 33,
   "id": "e358d274",
   "metadata": {},
   "outputs": [
    {
     "data": {
      "text/html": [
       "<div>\n",
       "<style scoped>\n",
       "    .dataframe tbody tr th:only-of-type {\n",
       "        vertical-align: middle;\n",
       "    }\n",
       "\n",
       "    .dataframe tbody tr th {\n",
       "        vertical-align: top;\n",
       "    }\n",
       "\n",
       "    .dataframe thead th {\n",
       "        text-align: right;\n",
       "    }\n",
       "</style>\n",
       "<table border=\"1\" class=\"dataframe\">\n",
       "  <thead>\n",
       "    <tr style=\"text-align: right;\">\n",
       "      <th></th>\n",
       "      <th>timestamp_hourly</th>\n",
       "      <th>product_id</th>\n",
       "      <th>estimated_stock_pct</th>\n",
       "      <th>quantity</th>\n",
       "      <th>temperature</th>\n",
       "      <th>category</th>\n",
       "      <th>unit_price</th>\n",
       "    </tr>\n",
       "  </thead>\n",
       "  <tbody>\n",
       "    <tr>\n",
       "      <th>0</th>\n",
       "      <td>2022-03-01 09:00</td>\n",
       "      <td>00e120bb-89d6-4df5-bc48-a051148e3d03</td>\n",
       "      <td>0.89</td>\n",
       "      <td>3.0</td>\n",
       "      <td>-0.02885</td>\n",
       "      <td>kitchen</td>\n",
       "      <td>11.19</td>\n",
       "    </tr>\n",
       "    <tr>\n",
       "      <th>1</th>\n",
       "      <td>2022-03-01 09:00</td>\n",
       "      <td>01f3cdd9-8e9e-4dff-9b5c-69698a0388d0</td>\n",
       "      <td>0.14</td>\n",
       "      <td>3.0</td>\n",
       "      <td>-0.02885</td>\n",
       "      <td>vegetables</td>\n",
       "      <td>1.49</td>\n",
       "    </tr>\n",
       "    <tr>\n",
       "      <th>2</th>\n",
       "      <td>2022-03-01 09:00</td>\n",
       "      <td>01ff0803-ae73-4234-971d-5713c97b7f4b</td>\n",
       "      <td>0.67</td>\n",
       "      <td>0.0</td>\n",
       "      <td>-0.02885</td>\n",
       "      <td>baby products</td>\n",
       "      <td>14.19</td>\n",
       "    </tr>\n",
       "    <tr>\n",
       "      <th>3</th>\n",
       "      <td>2022-03-01 09:00</td>\n",
       "      <td>0363eb21-8c74-47e1-a216-c37e565e5ceb</td>\n",
       "      <td>0.82</td>\n",
       "      <td>0.0</td>\n",
       "      <td>-0.02885</td>\n",
       "      <td>beverages</td>\n",
       "      <td>20.19</td>\n",
       "    </tr>\n",
       "    <tr>\n",
       "      <th>4</th>\n",
       "      <td>2022-03-01 09:00</td>\n",
       "      <td>03f0b20e-3b5b-444f-bc39-cdfa2523d4bc</td>\n",
       "      <td>0.05</td>\n",
       "      <td>0.0</td>\n",
       "      <td>-0.02885</td>\n",
       "      <td>pets</td>\n",
       "      <td>8.19</td>\n",
       "    </tr>\n",
       "  </tbody>\n",
       "</table>\n",
       "</div>"
      ],
      "text/plain": [
       "   timestamp_hourly                            product_id  \\\n",
       "0  2022-03-01 09:00  00e120bb-89d6-4df5-bc48-a051148e3d03   \n",
       "1  2022-03-01 09:00  01f3cdd9-8e9e-4dff-9b5c-69698a0388d0   \n",
       "2  2022-03-01 09:00  01ff0803-ae73-4234-971d-5713c97b7f4b   \n",
       "3  2022-03-01 09:00  0363eb21-8c74-47e1-a216-c37e565e5ceb   \n",
       "4  2022-03-01 09:00  03f0b20e-3b5b-444f-bc39-cdfa2523d4bc   \n",
       "\n",
       "   estimated_stock_pct  quantity  temperature       category  unit_price  \n",
       "0                 0.89       3.0     -0.02885        kitchen       11.19  \n",
       "1                 0.14       3.0     -0.02885     vegetables        1.49  \n",
       "2                 0.67       0.0     -0.02885  baby products       14.19  \n",
       "3                 0.82       0.0     -0.02885      beverages       20.19  \n",
       "4                 0.05       0.0     -0.02885           pets        8.19  "
      ]
     },
     "execution_count": 33,
     "metadata": {},
     "output_type": "execute_result"
    }
   ],
   "source": [
    "merged_df.head()"
   ]
  },
  {
   "cell_type": "code",
   "execution_count": 34,
   "id": "ffc1770f",
   "metadata": {},
   "outputs": [
    {
     "name": "stdout",
     "output_type": "stream",
     "text": [
      "<class 'pandas.core.frame.DataFrame'>\n",
      "Int64Index: 10845 entries, 0 to 10844\n",
      "Data columns (total 7 columns):\n",
      " #   Column               Non-Null Count  Dtype    \n",
      "---  ------               --------------  -----    \n",
      " 0   timestamp_hourly     10845 non-null  period[H]\n",
      " 1   product_id           10845 non-null  object   \n",
      " 2   estimated_stock_pct  10845 non-null  float64  \n",
      " 3   quantity             10845 non-null  float64  \n",
      " 4   temperature          10845 non-null  float64  \n",
      " 5   category             10845 non-null  object   \n",
      " 6   unit_price           10845 non-null  float64  \n",
      "dtypes: float64(4), object(2), period[H](1)\n",
      "memory usage: 677.8+ KB\n"
     ]
    }
   ],
   "source": [
    "merged_df.info()"
   ]
  },
  {
   "cell_type": "code",
   "execution_count": 585,
   "id": "ad7913be",
   "metadata": {},
   "outputs": [],
   "source": [
    "# merged_df.to_csv('Merged_df_original_new.csv',index=False)"
   ]
  },
  {
   "cell_type": "markdown",
   "id": "2c7b650f",
   "metadata": {},
   "source": [
    "### 5. Feature Engineering\n",
    "* __Handling categorical column and scaling numeric columns__"
   ]
  },
  {
   "cell_type": "markdown",
   "id": "ce18d12d",
   "metadata": {},
   "source": [
    "* We can drop product_id column as every row indicated unique product and time combination and it wont be useful for predictive mdoelling.\n",
    "* Divide the timestamp into days of month, week, hour so that model learns better\n",
    "* Handle category column as it is categorical in nature. Maybe use One hot encoding.\n"
   ]
  },
  {
   "cell_type": "code",
   "execution_count": 35,
   "id": "78623c19",
   "metadata": {},
   "outputs": [],
   "source": [
    "merged_df.drop('product_id',axis=1,inplace=True)"
   ]
  },
  {
   "cell_type": "code",
   "execution_count": 36,
   "id": "4d8156d7",
   "metadata": {},
   "outputs": [
    {
     "data": {
      "text/html": [
       "<div>\n",
       "<style scoped>\n",
       "    .dataframe tbody tr th:only-of-type {\n",
       "        vertical-align: middle;\n",
       "    }\n",
       "\n",
       "    .dataframe tbody tr th {\n",
       "        vertical-align: top;\n",
       "    }\n",
       "\n",
       "    .dataframe thead th {\n",
       "        text-align: right;\n",
       "    }\n",
       "</style>\n",
       "<table border=\"1\" class=\"dataframe\">\n",
       "  <thead>\n",
       "    <tr style=\"text-align: right;\">\n",
       "      <th></th>\n",
       "      <th>timestamp_hourly</th>\n",
       "      <th>estimated_stock_pct</th>\n",
       "      <th>quantity</th>\n",
       "      <th>temperature</th>\n",
       "      <th>category</th>\n",
       "      <th>unit_price</th>\n",
       "    </tr>\n",
       "  </thead>\n",
       "  <tbody>\n",
       "    <tr>\n",
       "      <th>0</th>\n",
       "      <td>2022-03-01 09:00</td>\n",
       "      <td>0.89</td>\n",
       "      <td>3.0</td>\n",
       "      <td>-0.02885</td>\n",
       "      <td>kitchen</td>\n",
       "      <td>11.19</td>\n",
       "    </tr>\n",
       "    <tr>\n",
       "      <th>1</th>\n",
       "      <td>2022-03-01 09:00</td>\n",
       "      <td>0.14</td>\n",
       "      <td>3.0</td>\n",
       "      <td>-0.02885</td>\n",
       "      <td>vegetables</td>\n",
       "      <td>1.49</td>\n",
       "    </tr>\n",
       "    <tr>\n",
       "      <th>2</th>\n",
       "      <td>2022-03-01 09:00</td>\n",
       "      <td>0.67</td>\n",
       "      <td>0.0</td>\n",
       "      <td>-0.02885</td>\n",
       "      <td>baby products</td>\n",
       "      <td>14.19</td>\n",
       "    </tr>\n",
       "    <tr>\n",
       "      <th>3</th>\n",
       "      <td>2022-03-01 09:00</td>\n",
       "      <td>0.82</td>\n",
       "      <td>0.0</td>\n",
       "      <td>-0.02885</td>\n",
       "      <td>beverages</td>\n",
       "      <td>20.19</td>\n",
       "    </tr>\n",
       "    <tr>\n",
       "      <th>4</th>\n",
       "      <td>2022-03-01 09:00</td>\n",
       "      <td>0.05</td>\n",
       "      <td>0.0</td>\n",
       "      <td>-0.02885</td>\n",
       "      <td>pets</td>\n",
       "      <td>8.19</td>\n",
       "    </tr>\n",
       "  </tbody>\n",
       "</table>\n",
       "</div>"
      ],
      "text/plain": [
       "   timestamp_hourly  estimated_stock_pct  quantity  temperature  \\\n",
       "0  2022-03-01 09:00                 0.89       3.0     -0.02885   \n",
       "1  2022-03-01 09:00                 0.14       3.0     -0.02885   \n",
       "2  2022-03-01 09:00                 0.67       0.0     -0.02885   \n",
       "3  2022-03-01 09:00                 0.82       0.0     -0.02885   \n",
       "4  2022-03-01 09:00                 0.05       0.0     -0.02885   \n",
       "\n",
       "        category  unit_price  \n",
       "0        kitchen       11.19  \n",
       "1     vegetables        1.49  \n",
       "2  baby products       14.19  \n",
       "3      beverages       20.19  \n",
       "4           pets        8.19  "
      ]
     },
     "execution_count": 36,
     "metadata": {},
     "output_type": "execute_result"
    }
   ],
   "source": [
    "merged_df.head()"
   ]
  },
  {
   "cell_type": "code",
   "execution_count": 37,
   "id": "dde3d42c",
   "metadata": {},
   "outputs": [
    {
     "data": {
      "text/html": [
       "<div>\n",
       "<style scoped>\n",
       "    .dataframe tbody tr th:only-of-type {\n",
       "        vertical-align: middle;\n",
       "    }\n",
       "\n",
       "    .dataframe tbody tr th {\n",
       "        vertical-align: top;\n",
       "    }\n",
       "\n",
       "    .dataframe thead th {\n",
       "        text-align: right;\n",
       "    }\n",
       "</style>\n",
       "<table border=\"1\" class=\"dataframe\">\n",
       "  <thead>\n",
       "    <tr style=\"text-align: right;\">\n",
       "      <th></th>\n",
       "      <th>timestamp_hourly</th>\n",
       "      <th>estimated_stock_pct</th>\n",
       "      <th>quantity</th>\n",
       "      <th>temperature</th>\n",
       "      <th>category</th>\n",
       "      <th>unit_price</th>\n",
       "    </tr>\n",
       "  </thead>\n",
       "  <tbody>\n",
       "    <tr>\n",
       "      <th>0</th>\n",
       "      <td>2022-03-01 09:00</td>\n",
       "      <td>0.89</td>\n",
       "      <td>3.0</td>\n",
       "      <td>-0.028850</td>\n",
       "      <td>kitchen</td>\n",
       "      <td>11.19</td>\n",
       "    </tr>\n",
       "    <tr>\n",
       "      <th>1</th>\n",
       "      <td>2022-03-01 09:00</td>\n",
       "      <td>0.14</td>\n",
       "      <td>3.0</td>\n",
       "      <td>-0.028850</td>\n",
       "      <td>vegetables</td>\n",
       "      <td>1.49</td>\n",
       "    </tr>\n",
       "    <tr>\n",
       "      <th>2</th>\n",
       "      <td>2022-03-01 09:00</td>\n",
       "      <td>0.67</td>\n",
       "      <td>0.0</td>\n",
       "      <td>-0.028850</td>\n",
       "      <td>baby products</td>\n",
       "      <td>14.19</td>\n",
       "    </tr>\n",
       "    <tr>\n",
       "      <th>3</th>\n",
       "      <td>2022-03-01 09:00</td>\n",
       "      <td>0.82</td>\n",
       "      <td>0.0</td>\n",
       "      <td>-0.028850</td>\n",
       "      <td>beverages</td>\n",
       "      <td>20.19</td>\n",
       "    </tr>\n",
       "    <tr>\n",
       "      <th>4</th>\n",
       "      <td>2022-03-01 09:00</td>\n",
       "      <td>0.05</td>\n",
       "      <td>0.0</td>\n",
       "      <td>-0.028850</td>\n",
       "      <td>pets</td>\n",
       "      <td>8.19</td>\n",
       "    </tr>\n",
       "    <tr>\n",
       "      <th>...</th>\n",
       "      <td>...</td>\n",
       "      <td>...</td>\n",
       "      <td>...</td>\n",
       "      <td>...</td>\n",
       "      <td>...</td>\n",
       "      <td>...</td>\n",
       "    </tr>\n",
       "    <tr>\n",
       "      <th>10840</th>\n",
       "      <td>2022-03-07 19:00</td>\n",
       "      <td>0.50</td>\n",
       "      <td>4.0</td>\n",
       "      <td>-0.165077</td>\n",
       "      <td>fruit</td>\n",
       "      <td>4.99</td>\n",
       "    </tr>\n",
       "    <tr>\n",
       "      <th>10841</th>\n",
       "      <td>2022-03-07 19:00</td>\n",
       "      <td>0.26</td>\n",
       "      <td>0.0</td>\n",
       "      <td>-0.165077</td>\n",
       "      <td>meat</td>\n",
       "      <td>19.99</td>\n",
       "    </tr>\n",
       "    <tr>\n",
       "      <th>10842</th>\n",
       "      <td>2022-03-07 19:00</td>\n",
       "      <td>0.78</td>\n",
       "      <td>3.0</td>\n",
       "      <td>-0.165077</td>\n",
       "      <td>packaged foods</td>\n",
       "      <td>6.99</td>\n",
       "    </tr>\n",
       "    <tr>\n",
       "      <th>10843</th>\n",
       "      <td>2022-03-07 19:00</td>\n",
       "      <td>0.92</td>\n",
       "      <td>3.0</td>\n",
       "      <td>-0.165077</td>\n",
       "      <td>meat</td>\n",
       "      <td>14.99</td>\n",
       "    </tr>\n",
       "    <tr>\n",
       "      <th>10844</th>\n",
       "      <td>2022-03-07 19:00</td>\n",
       "      <td>0.01</td>\n",
       "      <td>2.0</td>\n",
       "      <td>-0.165077</td>\n",
       "      <td>beverages</td>\n",
       "      <td>5.19</td>\n",
       "    </tr>\n",
       "  </tbody>\n",
       "</table>\n",
       "<p>10845 rows × 6 columns</p>\n",
       "</div>"
      ],
      "text/plain": [
       "       timestamp_hourly  estimated_stock_pct  quantity  temperature  \\\n",
       "0      2022-03-01 09:00                 0.89       3.0    -0.028850   \n",
       "1      2022-03-01 09:00                 0.14       3.0    -0.028850   \n",
       "2      2022-03-01 09:00                 0.67       0.0    -0.028850   \n",
       "3      2022-03-01 09:00                 0.82       0.0    -0.028850   \n",
       "4      2022-03-01 09:00                 0.05       0.0    -0.028850   \n",
       "...                 ...                  ...       ...          ...   \n",
       "10840  2022-03-07 19:00                 0.50       4.0    -0.165077   \n",
       "10841  2022-03-07 19:00                 0.26       0.0    -0.165077   \n",
       "10842  2022-03-07 19:00                 0.78       3.0    -0.165077   \n",
       "10843  2022-03-07 19:00                 0.92       3.0    -0.165077   \n",
       "10844  2022-03-07 19:00                 0.01       2.0    -0.165077   \n",
       "\n",
       "             category  unit_price  \n",
       "0             kitchen       11.19  \n",
       "1          vegetables        1.49  \n",
       "2       baby products       14.19  \n",
       "3           beverages       20.19  \n",
       "4                pets        8.19  \n",
       "...               ...         ...  \n",
       "10840           fruit        4.99  \n",
       "10841            meat       19.99  \n",
       "10842  packaged foods        6.99  \n",
       "10843            meat       14.99  \n",
       "10844       beverages        5.19  \n",
       "\n",
       "[10845 rows x 6 columns]"
      ]
     },
     "execution_count": 37,
     "metadata": {},
     "output_type": "execute_result"
    }
   ],
   "source": [
    "merged_df"
   ]
  },
  {
   "cell_type": "code",
   "execution_count": 38,
   "id": "abbfa1f6",
   "metadata": {},
   "outputs": [],
   "source": [
    "merged_df['day_of_month'] = merged_df['timestamp_hourly'].dt.day\n"
   ]
  },
  {
   "cell_type": "code",
   "execution_count": 39,
   "id": "57380920",
   "metadata": {},
   "outputs": [],
   "source": [
    "merged_df['hour'] = merged_df['timestamp_hourly'].dt.hour"
   ]
  },
  {
   "cell_type": "code",
   "execution_count": 40,
   "id": "49f99791",
   "metadata": {},
   "outputs": [],
   "source": [
    "merged_df.drop('timestamp_hourly',axis=1,inplace=True)"
   ]
  },
  {
   "cell_type": "code",
   "execution_count": 41,
   "id": "572b19af",
   "metadata": {},
   "outputs": [
    {
     "data": {
      "text/html": [
       "<div>\n",
       "<style scoped>\n",
       "    .dataframe tbody tr th:only-of-type {\n",
       "        vertical-align: middle;\n",
       "    }\n",
       "\n",
       "    .dataframe tbody tr th {\n",
       "        vertical-align: top;\n",
       "    }\n",
       "\n",
       "    .dataframe thead th {\n",
       "        text-align: right;\n",
       "    }\n",
       "</style>\n",
       "<table border=\"1\" class=\"dataframe\">\n",
       "  <thead>\n",
       "    <tr style=\"text-align: right;\">\n",
       "      <th></th>\n",
       "      <th>estimated_stock_pct</th>\n",
       "      <th>quantity</th>\n",
       "      <th>temperature</th>\n",
       "      <th>category</th>\n",
       "      <th>unit_price</th>\n",
       "      <th>day_of_month</th>\n",
       "      <th>hour</th>\n",
       "    </tr>\n",
       "  </thead>\n",
       "  <tbody>\n",
       "    <tr>\n",
       "      <th>0</th>\n",
       "      <td>0.89</td>\n",
       "      <td>3.0</td>\n",
       "      <td>-0.02885</td>\n",
       "      <td>kitchen</td>\n",
       "      <td>11.19</td>\n",
       "      <td>1</td>\n",
       "      <td>9</td>\n",
       "    </tr>\n",
       "    <tr>\n",
       "      <th>1</th>\n",
       "      <td>0.14</td>\n",
       "      <td>3.0</td>\n",
       "      <td>-0.02885</td>\n",
       "      <td>vegetables</td>\n",
       "      <td>1.49</td>\n",
       "      <td>1</td>\n",
       "      <td>9</td>\n",
       "    </tr>\n",
       "    <tr>\n",
       "      <th>2</th>\n",
       "      <td>0.67</td>\n",
       "      <td>0.0</td>\n",
       "      <td>-0.02885</td>\n",
       "      <td>baby products</td>\n",
       "      <td>14.19</td>\n",
       "      <td>1</td>\n",
       "      <td>9</td>\n",
       "    </tr>\n",
       "    <tr>\n",
       "      <th>3</th>\n",
       "      <td>0.82</td>\n",
       "      <td>0.0</td>\n",
       "      <td>-0.02885</td>\n",
       "      <td>beverages</td>\n",
       "      <td>20.19</td>\n",
       "      <td>1</td>\n",
       "      <td>9</td>\n",
       "    </tr>\n",
       "    <tr>\n",
       "      <th>4</th>\n",
       "      <td>0.05</td>\n",
       "      <td>0.0</td>\n",
       "      <td>-0.02885</td>\n",
       "      <td>pets</td>\n",
       "      <td>8.19</td>\n",
       "      <td>1</td>\n",
       "      <td>9</td>\n",
       "    </tr>\n",
       "  </tbody>\n",
       "</table>\n",
       "</div>"
      ],
      "text/plain": [
       "   estimated_stock_pct  quantity  temperature       category  unit_price  \\\n",
       "0                 0.89       3.0     -0.02885        kitchen       11.19   \n",
       "1                 0.14       3.0     -0.02885     vegetables        1.49   \n",
       "2                 0.67       0.0     -0.02885  baby products       14.19   \n",
       "3                 0.82       0.0     -0.02885      beverages       20.19   \n",
       "4                 0.05       0.0     -0.02885           pets        8.19   \n",
       "\n",
       "   day_of_month  hour  \n",
       "0             1     9  \n",
       "1             1     9  \n",
       "2             1     9  \n",
       "3             1     9  \n",
       "4             1     9  "
      ]
     },
     "execution_count": 41,
     "metadata": {},
     "output_type": "execute_result"
    }
   ],
   "source": [
    "merged_df.head()"
   ]
  },
  {
   "cell_type": "markdown",
   "id": "47bad403",
   "metadata": {},
   "source": [
    "Saving Merged_df file"
   ]
  },
  {
   "cell_type": "markdown",
   "id": "f13ad1d1",
   "metadata": {},
   "source": [
    "__Lets check how many categories does category column have, then apply OHE__"
   ]
  },
  {
   "cell_type": "code",
   "execution_count": 27,
   "id": "b1d5d28f",
   "metadata": {},
   "outputs": [
    {
     "data": {
      "text/plain": [
       "array(['kitchen', 'vegetables', 'baby products', 'beverages', 'pets',\n",
       "       'meat', 'fruit', 'spices and herbs', 'frozen', 'medicine',\n",
       "       'baking', 'personal care', 'cleaning products', 'dairy',\n",
       "       'condiments and sauces', 'refrigerated items', 'packaged foods',\n",
       "       'baked goods', 'snacks', 'cheese', 'canned foods', 'seafood'],\n",
       "      dtype=object)"
      ]
     },
     "execution_count": 27,
     "metadata": {},
     "output_type": "execute_result"
    }
   ],
   "source": [
    "merged_df['category'].unique()"
   ]
  },
  {
   "cell_type": "code",
   "execution_count": 28,
   "id": "f2f3bd96",
   "metadata": {},
   "outputs": [
    {
     "data": {
      "text/plain": [
       "beverages                552\n",
       "baked goods              542\n",
       "snacks                   541\n",
       "frozen                   532\n",
       "refrigerated items       522\n",
       "baking                   519\n",
       "condiments and sauces    517\n",
       "cleaning products        507\n",
       "personal care            506\n",
       "medicine                 501\n",
       "spices and herbs         492\n",
       "cheese                   489\n",
       "seafood                  488\n",
       "baby products            488\n",
       "fruit                    477\n",
       "kitchen                  472\n",
       "meat                     471\n",
       "vegetables               469\n",
       "canned foods             469\n",
       "packaged foods           435\n",
       "pets                     429\n",
       "dairy                    427\n",
       "Name: category, dtype: int64"
      ]
     },
     "execution_count": 28,
     "metadata": {},
     "output_type": "execute_result"
    }
   ],
   "source": [
    "merged_df['category'].value_counts()"
   ]
  },
  {
   "cell_type": "markdown",
   "id": "383560e9",
   "metadata": {},
   "source": [
    "* __Normally, if we have a lot of unique categories, we take top N categories and label the rest as \"others\". However, here, the frequency of all categories are moore or less in the same range. We will consider all categories.__"
   ]
  },
  {
   "cell_type": "markdown",
   "id": "4ebaeaca",
   "metadata": {},
   "source": [
    "#### Before scaling and encoding, we must split dataset into train and test set."
   ]
  },
  {
   "cell_type": "code",
   "execution_count": 42,
   "id": "bfa61f6b",
   "metadata": {},
   "outputs": [],
   "source": [
    "merged_df1 = merged_df.copy()"
   ]
  },
  {
   "cell_type": "code",
   "execution_count": null,
   "id": "692c25d4",
   "metadata": {},
   "outputs": [],
   "source": []
  },
  {
   "cell_type": "code",
   "execution_count": 43,
   "id": "49bf56d2",
   "metadata": {},
   "outputs": [],
   "source": [
    "X = merged_df1.drop('estimated_stock_pct',axis=1)\n",
    "y = merged_df1['estimated_stock_pct']"
   ]
  },
  {
   "cell_type": "code",
   "execution_count": 44,
   "id": "b90aed69",
   "metadata": {},
   "outputs": [],
   "source": [
    "\n",
    "X_train, X_test, y_train, y_test = train_test_split(X, y, test_size=0.2, random_state=42)\n"
   ]
  },
  {
   "cell_type": "code",
   "execution_count": 45,
   "id": "c4d38bad",
   "metadata": {},
   "outputs": [
    {
     "data": {
      "text/plain": [
       "((8676, 6), (2169, 6))"
      ]
     },
     "execution_count": 45,
     "metadata": {},
     "output_type": "execute_result"
    }
   ],
   "source": [
    "X_train.shape,X_test.shape"
   ]
  },
  {
   "cell_type": "code",
   "execution_count": 46,
   "id": "963a143e",
   "metadata": {},
   "outputs": [
    {
     "data": {
      "text/plain": [
       "Index(['quantity', 'temperature', 'category', 'unit_price', 'day_of_month',\n",
       "       'hour'],\n",
       "      dtype='object')"
      ]
     },
     "execution_count": 46,
     "metadata": {},
     "output_type": "execute_result"
    }
   ],
   "source": [
    "X.columns"
   ]
  },
  {
   "cell_type": "markdown",
   "id": "0ac35cee",
   "metadata": {},
   "source": [
    "#### We will use, pipeline and column transformer"
   ]
  },
  {
   "cell_type": "code",
   "execution_count": 47,
   "id": "55d3b704",
   "metadata": {},
   "outputs": [],
   "source": [
    "sc = StandardScaler()\n",
    "ohe = OneHotEncoder()"
   ]
  },
  {
   "cell_type": "code",
   "execution_count": 48,
   "id": "1ce24fe0",
   "metadata": {},
   "outputs": [
    {
     "data": {
      "text/plain": [
       "['quantity', 'temperature', 'unit_price', 'day_of_month', 'hour']"
      ]
     },
     "execution_count": 48,
     "metadata": {},
     "output_type": "execute_result"
    }
   ],
   "source": [
    "num_col = [col for col in X.columns if X[col].dtype != 'O']\n",
    "num_col"
   ]
  },
  {
   "cell_type": "code",
   "execution_count": 49,
   "id": "0e8ae6e9",
   "metadata": {},
   "outputs": [
    {
     "data": {
      "text/plain": [
       "['category']"
      ]
     },
     "execution_count": 49,
     "metadata": {},
     "output_type": "execute_result"
    }
   ],
   "source": [
    "cat_col = [col for col in X.columns if col not in num_col]\n",
    "cat_col"
   ]
  },
  {
   "cell_type": "code",
   "execution_count": 50,
   "id": "6e9dfd0c",
   "metadata": {},
   "outputs": [],
   "source": [
    "preprocessing_transformer = ColumnTransformer(\n",
    "                                transformers =[\n",
    "                                    ('ohe',ohe,cat_col),\n",
    "                                    ('standard_sclaler',sc,num_col)\n",
    "                                ]\n",
    "                            )"
   ]
  },
  {
   "cell_type": "code",
   "execution_count": 51,
   "id": "beedb1b2",
   "metadata": {},
   "outputs": [],
   "source": [
    "pipeline = Pipeline(steps=[('preprocessor', preprocessing_transformer)])"
   ]
  },
  {
   "cell_type": "code",
   "execution_count": 52,
   "id": "6df94601",
   "metadata": {},
   "outputs": [],
   "source": [
    "X_train_processed = pipeline.fit_transform(X_train).toarray()\n"
   ]
  },
  {
   "cell_type": "code",
   "execution_count": 53,
   "id": "247f5ba9",
   "metadata": {},
   "outputs": [],
   "source": [
    "X_test_processed = pipeline.transform(X_test).toarray()"
   ]
  },
  {
   "cell_type": "code",
   "execution_count": 54,
   "id": "ef0377e1",
   "metadata": {},
   "outputs": [
    {
     "data": {
      "text/plain": [
       "['transforamtion_pipeline.pkl']"
      ]
     },
     "execution_count": 54,
     "metadata": {},
     "output_type": "execute_result"
    }
   ],
   "source": [
    "joblib.dump(pipeline,'transforamtion_pipeline.pkl')"
   ]
  },
  {
   "cell_type": "markdown",
   "id": "d2c2b22f",
   "metadata": {},
   "source": [
    "* Getting OHE column names and addidng it to standard scaler column names"
   ]
  },
  {
   "cell_type": "code",
   "execution_count": 41,
   "id": "2382c656",
   "metadata": {},
   "outputs": [],
   "source": [
    "column_names = list(pipeline.named_steps['preprocessor'].named_transformers_['ohe'].get_feature_names_out(cat_col)) + list(num_col)"
   ]
  },
  {
   "cell_type": "code",
   "execution_count": 42,
   "id": "0f0a98fe",
   "metadata": {},
   "outputs": [],
   "source": [
    "X_train_processed = pd.DataFrame(X_train_processed,columns =column_names)\n",
    "X_test_processed = pd.DataFrame(X_test_processed,columns =column_names)"
   ]
  },
  {
   "cell_type": "code",
   "execution_count": 43,
   "id": "68736d82",
   "metadata": {},
   "outputs": [
    {
     "data": {
      "text/html": [
       "<div>\n",
       "<style scoped>\n",
       "    .dataframe tbody tr th:only-of-type {\n",
       "        vertical-align: middle;\n",
       "    }\n",
       "\n",
       "    .dataframe tbody tr th {\n",
       "        vertical-align: top;\n",
       "    }\n",
       "\n",
       "    .dataframe thead th {\n",
       "        text-align: right;\n",
       "    }\n",
       "</style>\n",
       "<table border=\"1\" class=\"dataframe\">\n",
       "  <thead>\n",
       "    <tr style=\"text-align: right;\">\n",
       "      <th></th>\n",
       "      <th>category_baby products</th>\n",
       "      <th>category_baked goods</th>\n",
       "      <th>category_baking</th>\n",
       "      <th>category_beverages</th>\n",
       "      <th>category_canned foods</th>\n",
       "      <th>category_cheese</th>\n",
       "      <th>category_cleaning products</th>\n",
       "      <th>category_condiments and sauces</th>\n",
       "      <th>category_dairy</th>\n",
       "      <th>category_frozen</th>\n",
       "      <th>...</th>\n",
       "      <th>category_refrigerated items</th>\n",
       "      <th>category_seafood</th>\n",
       "      <th>category_snacks</th>\n",
       "      <th>category_spices and herbs</th>\n",
       "      <th>category_vegetables</th>\n",
       "      <th>quantity</th>\n",
       "      <th>temperature</th>\n",
       "      <th>unit_price</th>\n",
       "      <th>day_of_month</th>\n",
       "      <th>hour</th>\n",
       "    </tr>\n",
       "  </thead>\n",
       "  <tbody>\n",
       "    <tr>\n",
       "      <th>0</th>\n",
       "      <td>0.0</td>\n",
       "      <td>0.0</td>\n",
       "      <td>0.0</td>\n",
       "      <td>0.0</td>\n",
       "      <td>0.0</td>\n",
       "      <td>0.0</td>\n",
       "      <td>1.0</td>\n",
       "      <td>0.0</td>\n",
       "      <td>0.0</td>\n",
       "      <td>0.0</td>\n",
       "      <td>...</td>\n",
       "      <td>0.0</td>\n",
       "      <td>0.0</td>\n",
       "      <td>0.0</td>\n",
       "      <td>0.0</td>\n",
       "      <td>0.0</td>\n",
       "      <td>-0.505349</td>\n",
       "      <td>0.243934</td>\n",
       "      <td>1.487798</td>\n",
       "      <td>0.491681</td>\n",
       "      <td>0.635836</td>\n",
       "    </tr>\n",
       "    <tr>\n",
       "      <th>1</th>\n",
       "      <td>0.0</td>\n",
       "      <td>0.0</td>\n",
       "      <td>1.0</td>\n",
       "      <td>0.0</td>\n",
       "      <td>0.0</td>\n",
       "      <td>0.0</td>\n",
       "      <td>0.0</td>\n",
       "      <td>0.0</td>\n",
       "      <td>0.0</td>\n",
       "      <td>0.0</td>\n",
       "      <td>...</td>\n",
       "      <td>0.0</td>\n",
       "      <td>0.0</td>\n",
       "      <td>0.0</td>\n",
       "      <td>0.0</td>\n",
       "      <td>0.0</td>\n",
       "      <td>-0.505349</td>\n",
       "      <td>-0.799070</td>\n",
       "      <td>-0.179331</td>\n",
       "      <td>-0.008474</td>\n",
       "      <td>0.635836</td>\n",
       "    </tr>\n",
       "    <tr>\n",
       "      <th>2</th>\n",
       "      <td>0.0</td>\n",
       "      <td>0.0</td>\n",
       "      <td>0.0</td>\n",
       "      <td>0.0</td>\n",
       "      <td>0.0</td>\n",
       "      <td>0.0</td>\n",
       "      <td>0.0</td>\n",
       "      <td>1.0</td>\n",
       "      <td>0.0</td>\n",
       "      <td>0.0</td>\n",
       "      <td>...</td>\n",
       "      <td>0.0</td>\n",
       "      <td>0.0</td>\n",
       "      <td>0.0</td>\n",
       "      <td>0.0</td>\n",
       "      <td>0.0</td>\n",
       "      <td>-0.505349</td>\n",
       "      <td>-1.128592</td>\n",
       "      <td>-0.642422</td>\n",
       "      <td>1.491990</td>\n",
       "      <td>0.319377</td>\n",
       "    </tr>\n",
       "    <tr>\n",
       "      <th>3</th>\n",
       "      <td>0.0</td>\n",
       "      <td>0.0</td>\n",
       "      <td>0.0</td>\n",
       "      <td>0.0</td>\n",
       "      <td>0.0</td>\n",
       "      <td>0.0</td>\n",
       "      <td>0.0</td>\n",
       "      <td>0.0</td>\n",
       "      <td>0.0</td>\n",
       "      <td>0.0</td>\n",
       "      <td>...</td>\n",
       "      <td>0.0</td>\n",
       "      <td>0.0</td>\n",
       "      <td>0.0</td>\n",
       "      <td>0.0</td>\n",
       "      <td>0.0</td>\n",
       "      <td>-0.505349</td>\n",
       "      <td>1.354878</td>\n",
       "      <td>-0.642422</td>\n",
       "      <td>0.491681</td>\n",
       "      <td>-0.313541</td>\n",
       "    </tr>\n",
       "    <tr>\n",
       "      <th>4</th>\n",
       "      <td>0.0</td>\n",
       "      <td>0.0</td>\n",
       "      <td>0.0</td>\n",
       "      <td>0.0</td>\n",
       "      <td>0.0</td>\n",
       "      <td>0.0</td>\n",
       "      <td>0.0</td>\n",
       "      <td>0.0</td>\n",
       "      <td>0.0</td>\n",
       "      <td>0.0</td>\n",
       "      <td>...</td>\n",
       "      <td>0.0</td>\n",
       "      <td>0.0</td>\n",
       "      <td>0.0</td>\n",
       "      <td>0.0</td>\n",
       "      <td>0.0</td>\n",
       "      <td>-0.505349</td>\n",
       "      <td>0.160577</td>\n",
       "      <td>0.413426</td>\n",
       "      <td>1.491990</td>\n",
       "      <td>0.002918</td>\n",
       "    </tr>\n",
       "  </tbody>\n",
       "</table>\n",
       "<p>5 rows × 27 columns</p>\n",
       "</div>"
      ],
      "text/plain": [
       "   category_baby products  category_baked goods  category_baking  \\\n",
       "0                     0.0                   0.0              0.0   \n",
       "1                     0.0                   0.0              1.0   \n",
       "2                     0.0                   0.0              0.0   \n",
       "3                     0.0                   0.0              0.0   \n",
       "4                     0.0                   0.0              0.0   \n",
       "\n",
       "   category_beverages  category_canned foods  category_cheese  \\\n",
       "0                 0.0                    0.0              0.0   \n",
       "1                 0.0                    0.0              0.0   \n",
       "2                 0.0                    0.0              0.0   \n",
       "3                 0.0                    0.0              0.0   \n",
       "4                 0.0                    0.0              0.0   \n",
       "\n",
       "   category_cleaning products  category_condiments and sauces  category_dairy  \\\n",
       "0                         1.0                             0.0             0.0   \n",
       "1                         0.0                             0.0             0.0   \n",
       "2                         0.0                             1.0             0.0   \n",
       "3                         0.0                             0.0             0.0   \n",
       "4                         0.0                             0.0             0.0   \n",
       "\n",
       "   category_frozen  ...  category_refrigerated items  category_seafood  \\\n",
       "0              0.0  ...                          0.0               0.0   \n",
       "1              0.0  ...                          0.0               0.0   \n",
       "2              0.0  ...                          0.0               0.0   \n",
       "3              0.0  ...                          0.0               0.0   \n",
       "4              0.0  ...                          0.0               0.0   \n",
       "\n",
       "   category_snacks  category_spices and herbs  category_vegetables  quantity  \\\n",
       "0              0.0                        0.0                  0.0 -0.505349   \n",
       "1              0.0                        0.0                  0.0 -0.505349   \n",
       "2              0.0                        0.0                  0.0 -0.505349   \n",
       "3              0.0                        0.0                  0.0 -0.505349   \n",
       "4              0.0                        0.0                  0.0 -0.505349   \n",
       "\n",
       "   temperature  unit_price  day_of_month      hour  \n",
       "0     0.243934    1.487798      0.491681  0.635836  \n",
       "1    -0.799070   -0.179331     -0.008474  0.635836  \n",
       "2    -1.128592   -0.642422      1.491990  0.319377  \n",
       "3     1.354878   -0.642422      0.491681 -0.313541  \n",
       "4     0.160577    0.413426      1.491990  0.002918  \n",
       "\n",
       "[5 rows x 27 columns]"
      ]
     },
     "execution_count": 43,
     "metadata": {},
     "output_type": "execute_result"
    }
   ],
   "source": [
    "X_train_processed.head()"
   ]
  },
  {
   "cell_type": "code",
   "execution_count": 44,
   "id": "e2501d1f",
   "metadata": {},
   "outputs": [
    {
     "data": {
      "text/html": [
       "<div>\n",
       "<style scoped>\n",
       "    .dataframe tbody tr th:only-of-type {\n",
       "        vertical-align: middle;\n",
       "    }\n",
       "\n",
       "    .dataframe tbody tr th {\n",
       "        vertical-align: top;\n",
       "    }\n",
       "\n",
       "    .dataframe thead th {\n",
       "        text-align: right;\n",
       "    }\n",
       "</style>\n",
       "<table border=\"1\" class=\"dataframe\">\n",
       "  <thead>\n",
       "    <tr style=\"text-align: right;\">\n",
       "      <th></th>\n",
       "      <th>category_baby products</th>\n",
       "      <th>category_baked goods</th>\n",
       "      <th>category_baking</th>\n",
       "      <th>category_beverages</th>\n",
       "      <th>category_canned foods</th>\n",
       "      <th>category_cheese</th>\n",
       "      <th>category_cleaning products</th>\n",
       "      <th>category_condiments and sauces</th>\n",
       "      <th>category_dairy</th>\n",
       "      <th>category_frozen</th>\n",
       "      <th>...</th>\n",
       "      <th>category_refrigerated items</th>\n",
       "      <th>category_seafood</th>\n",
       "      <th>category_snacks</th>\n",
       "      <th>category_spices and herbs</th>\n",
       "      <th>category_vegetables</th>\n",
       "      <th>quantity</th>\n",
       "      <th>temperature</th>\n",
       "      <th>unit_price</th>\n",
       "      <th>day_of_month</th>\n",
       "      <th>hour</th>\n",
       "    </tr>\n",
       "  </thead>\n",
       "  <tbody>\n",
       "    <tr>\n",
       "      <th>0</th>\n",
       "      <td>0.0</td>\n",
       "      <td>0.0</td>\n",
       "      <td>0.0</td>\n",
       "      <td>0.0</td>\n",
       "      <td>0.0</td>\n",
       "      <td>0.0</td>\n",
       "      <td>0.0</td>\n",
       "      <td>0.0</td>\n",
       "      <td>0.0</td>\n",
       "      <td>0.0</td>\n",
       "      <td>...</td>\n",
       "      <td>0.0</td>\n",
       "      <td>0.0</td>\n",
       "      <td>0.0</td>\n",
       "      <td>0.0</td>\n",
       "      <td>0.0</td>\n",
       "      <td>0.060016</td>\n",
       "      <td>0.848670</td>\n",
       "      <td>0.228189</td>\n",
       "      <td>-1.008784</td>\n",
       "      <td>-0.630000</td>\n",
       "    </tr>\n",
       "    <tr>\n",
       "      <th>1</th>\n",
       "      <td>0.0</td>\n",
       "      <td>0.0</td>\n",
       "      <td>0.0</td>\n",
       "      <td>0.0</td>\n",
       "      <td>0.0</td>\n",
       "      <td>0.0</td>\n",
       "      <td>0.0</td>\n",
       "      <td>0.0</td>\n",
       "      <td>0.0</td>\n",
       "      <td>0.0</td>\n",
       "      <td>...</td>\n",
       "      <td>0.0</td>\n",
       "      <td>0.0</td>\n",
       "      <td>0.0</td>\n",
       "      <td>0.0</td>\n",
       "      <td>0.0</td>\n",
       "      <td>-0.505349</td>\n",
       "      <td>-0.994784</td>\n",
       "      <td>-1.383369</td>\n",
       "      <td>-1.008784</td>\n",
       "      <td>-1.262918</td>\n",
       "    </tr>\n",
       "    <tr>\n",
       "      <th>2</th>\n",
       "      <td>0.0</td>\n",
       "      <td>0.0</td>\n",
       "      <td>0.0</td>\n",
       "      <td>0.0</td>\n",
       "      <td>0.0</td>\n",
       "      <td>0.0</td>\n",
       "      <td>0.0</td>\n",
       "      <td>1.0</td>\n",
       "      <td>0.0</td>\n",
       "      <td>0.0</td>\n",
       "      <td>...</td>\n",
       "      <td>0.0</td>\n",
       "      <td>0.0</td>\n",
       "      <td>0.0</td>\n",
       "      <td>0.0</td>\n",
       "      <td>0.0</td>\n",
       "      <td>-0.505349</td>\n",
       "      <td>0.513797</td>\n",
       "      <td>-0.179331</td>\n",
       "      <td>0.491681</td>\n",
       "      <td>0.002918</td>\n",
       "    </tr>\n",
       "    <tr>\n",
       "      <th>3</th>\n",
       "      <td>0.0</td>\n",
       "      <td>0.0</td>\n",
       "      <td>0.0</td>\n",
       "      <td>0.0</td>\n",
       "      <td>0.0</td>\n",
       "      <td>0.0</td>\n",
       "      <td>0.0</td>\n",
       "      <td>0.0</td>\n",
       "      <td>0.0</td>\n",
       "      <td>0.0</td>\n",
       "      <td>...</td>\n",
       "      <td>0.0</td>\n",
       "      <td>0.0</td>\n",
       "      <td>0.0</td>\n",
       "      <td>0.0</td>\n",
       "      <td>0.0</td>\n",
       "      <td>-0.505349</td>\n",
       "      <td>-1.447069</td>\n",
       "      <td>-0.364568</td>\n",
       "      <td>-0.008474</td>\n",
       "      <td>-0.630000</td>\n",
       "    </tr>\n",
       "    <tr>\n",
       "      <th>4</th>\n",
       "      <td>0.0</td>\n",
       "      <td>0.0</td>\n",
       "      <td>0.0</td>\n",
       "      <td>0.0</td>\n",
       "      <td>0.0</td>\n",
       "      <td>0.0</td>\n",
       "      <td>0.0</td>\n",
       "      <td>0.0</td>\n",
       "      <td>0.0</td>\n",
       "      <td>0.0</td>\n",
       "      <td>...</td>\n",
       "      <td>0.0</td>\n",
       "      <td>0.0</td>\n",
       "      <td>0.0</td>\n",
       "      <td>0.0</td>\n",
       "      <td>0.0</td>\n",
       "      <td>-0.505349</td>\n",
       "      <td>-0.538280</td>\n",
       "      <td>2.228744</td>\n",
       "      <td>-1.508939</td>\n",
       "      <td>-0.946459</td>\n",
       "    </tr>\n",
       "  </tbody>\n",
       "</table>\n",
       "<p>5 rows × 27 columns</p>\n",
       "</div>"
      ],
      "text/plain": [
       "   category_baby products  category_baked goods  category_baking  \\\n",
       "0                     0.0                   0.0              0.0   \n",
       "1                     0.0                   0.0              0.0   \n",
       "2                     0.0                   0.0              0.0   \n",
       "3                     0.0                   0.0              0.0   \n",
       "4                     0.0                   0.0              0.0   \n",
       "\n",
       "   category_beverages  category_canned foods  category_cheese  \\\n",
       "0                 0.0                    0.0              0.0   \n",
       "1                 0.0                    0.0              0.0   \n",
       "2                 0.0                    0.0              0.0   \n",
       "3                 0.0                    0.0              0.0   \n",
       "4                 0.0                    0.0              0.0   \n",
       "\n",
       "   category_cleaning products  category_condiments and sauces  category_dairy  \\\n",
       "0                         0.0                             0.0             0.0   \n",
       "1                         0.0                             0.0             0.0   \n",
       "2                         0.0                             1.0             0.0   \n",
       "3                         0.0                             0.0             0.0   \n",
       "4                         0.0                             0.0             0.0   \n",
       "\n",
       "   category_frozen  ...  category_refrigerated items  category_seafood  \\\n",
       "0              0.0  ...                          0.0               0.0   \n",
       "1              0.0  ...                          0.0               0.0   \n",
       "2              0.0  ...                          0.0               0.0   \n",
       "3              0.0  ...                          0.0               0.0   \n",
       "4              0.0  ...                          0.0               0.0   \n",
       "\n",
       "   category_snacks  category_spices and herbs  category_vegetables  quantity  \\\n",
       "0              0.0                        0.0                  0.0  0.060016   \n",
       "1              0.0                        0.0                  0.0 -0.505349   \n",
       "2              0.0                        0.0                  0.0 -0.505349   \n",
       "3              0.0                        0.0                  0.0 -0.505349   \n",
       "4              0.0                        0.0                  0.0 -0.505349   \n",
       "\n",
       "   temperature  unit_price  day_of_month      hour  \n",
       "0     0.848670    0.228189     -1.008784 -0.630000  \n",
       "1    -0.994784   -1.383369     -1.008784 -1.262918  \n",
       "2     0.513797   -0.179331      0.491681  0.002918  \n",
       "3    -1.447069   -0.364568     -0.008474 -0.630000  \n",
       "4    -0.538280    2.228744     -1.508939 -0.946459  \n",
       "\n",
       "[5 rows x 27 columns]"
      ]
     },
     "execution_count": 44,
     "metadata": {},
     "output_type": "execute_result"
    }
   ],
   "source": [
    "X_test_processed.head()"
   ]
  },
  {
   "cell_type": "code",
   "execution_count": 45,
   "id": "a801f57d",
   "metadata": {},
   "outputs": [
    {
     "data": {
      "text/plain": [
       "((8676, 27), (2169, 27))"
      ]
     },
     "execution_count": 45,
     "metadata": {},
     "output_type": "execute_result"
    }
   ],
   "source": [
    "X_train_processed.shape, X_test_processed.shape"
   ]
  },
  {
   "cell_type": "code",
   "execution_count": 148,
   "id": "202c0e83",
   "metadata": {},
   "outputs": [],
   "source": [
    "# X_train_processed.to_csv('Merged_datasets/Preprocessed_original/X_train_processed.csv',index=False)\n",
    "# y_train.to_csv('Merged_datasets/Preprocessed_original/y_train.csv',index=False)\n",
    "\n",
    "# X_test_processed.to_csv('Merged_datasets/Preprocessed_original/X_test_processed.csv',index=False)\n",
    "# y_test.to_csv('Merged_datasets/Preprocessed_original/y_test.csv',index=False)"
   ]
  },
  {
   "cell_type": "markdown",
   "id": "4293c662",
   "metadata": {},
   "source": [
    "### Now we are done with encoding and scaling"
   ]
  },
  {
   "cell_type": "markdown",
   "id": "f74fa74a",
   "metadata": {},
   "source": [
    "# 6. Model Training\n",
    "\n",
    "* ### We will first train using default models and then perform hyperparameter tuning"
   ]
  },
  {
   "cell_type": "markdown",
   "id": "68b5a78e",
   "metadata": {},
   "source": [
    "Default Models Dictionary"
   ]
  },
  {
   "cell_type": "code",
   "execution_count": null,
   "id": "64fdbd86",
   "metadata": {},
   "outputs": [],
   "source": []
  },
  {
   "cell_type": "code",
   "execution_count": 26,
   "id": "d609dc9a",
   "metadata": {},
   "outputs": [],
   "source": [
    "default_model_dict = {\n",
    "    'Random Forest': RandomForestRegressor(),\n",
    "    'SVR' : SVR(),\n",
    "    'GradientBoosting' : GradientBoostingRegressor(),\n",
    "    'AdaboostRegressor' : AdaBoostRegressor()\n",
    "\n",
    "}"
   ]
  },
  {
   "cell_type": "markdown",
   "id": "c7724984",
   "metadata": {},
   "source": [
    "Training and Evaluation Helper function"
   ]
  },
  {
   "cell_type": "code",
   "execution_count": 46,
   "id": "530e8822",
   "metadata": {},
   "outputs": [],
   "source": [
    "def train_models(model_dict, X_train, y_train):\n",
    "    fitted_models = {}\n",
    "    for name, model in model_dict.items():\n",
    "        model.fit(X_train, y_train)\n",
    "        fitted_models[name] = model\n",
    "    return fitted_models\n",
    "\n",
    "def evaluate_models(fitted_models, X_train, X_test, y_train, y_test):\n",
    "    metrics = ['RMSE', 'MAE', 'R2']\n",
    "    report = pd.DataFrame(index=list(fitted_models.keys()), columns=metrics)\n",
    "    for name, model in fitted_models.items():\n",
    "        y_train_pred = model.predict(X_train)\n",
    "        y_test_pred = model.predict(X_test)\n",
    "        rmse = mean_squared_error(y_test, y_test_pred,squared=False)\n",
    "        mae = mean_absolute_error(y_test, y_test_pred)\n",
    "        r2 = r2_score(y_test, y_test_pred)\n",
    "        report.loc[name] = [rmse, mae, r2]\n",
    "    return report"
   ]
  },
  {
   "cell_type": "markdown",
   "id": "ac1e8ae7",
   "metadata": {},
   "source": [
    "* __Using cross validation will give us insights into robust models__"
   ]
  },
  {
   "cell_type": "code",
   "execution_count": 47,
   "id": "24c252b2",
   "metadata": {},
   "outputs": [],
   "source": [
    "def train_models_cv(model_dict, X_train, y_train, cv=5):\n",
    "    cv_scores = {}\n",
    "    for name, model in model_dict.items():\n",
    "        model.fit(X_train, y_train)\n",
    "        scores = cross_validate(model, X_train, y_train, cv=cv, scoring=['r2', 'neg_mean_absolute_error', 'neg_mean_squared_error'], return_train_score=True)\n",
    "        cv_scores[name] = {\n",
    "            'avg_r2': np.mean(scores['test_r2']),\n",
    "            'avg_mae': -np.mean(scores['test_neg_mean_absolute_error']),  # note the negation for mae_scores\n",
    "            'avg_rmse': np.sqrt(-np.mean(scores['test_neg_mean_squared_error']))  # note the negation and sqrt for rmse_scores\n",
    "        }\n",
    "\n",
    "    # Convert cv_scores to DataFrame\n",
    "    cv_scores_df = pd.DataFrame(cv_scores).T\n",
    "\n",
    "    return cv_scores_df"
   ]
  },
  {
   "cell_type": "markdown",
   "id": "29fc7a12",
   "metadata": {},
   "source": [
    "* Corss validation output"
   ]
  },
  {
   "cell_type": "code",
   "execution_count": 48,
   "id": "d7a47fdd",
   "metadata": {},
   "outputs": [],
   "source": [
    "cv_Scores_df = train_models_cv(default_model_dict, X_train_processed, y_train,cv=5)"
   ]
  },
  {
   "cell_type": "code",
   "execution_count": 49,
   "id": "56fb0989",
   "metadata": {},
   "outputs": [
    {
     "data": {
      "text/html": [
       "<div>\n",
       "<style scoped>\n",
       "    .dataframe tbody tr th:only-of-type {\n",
       "        vertical-align: middle;\n",
       "    }\n",
       "\n",
       "    .dataframe tbody tr th {\n",
       "        vertical-align: top;\n",
       "    }\n",
       "\n",
       "    .dataframe thead th {\n",
       "        text-align: right;\n",
       "    }\n",
       "</style>\n",
       "<table border=\"1\" class=\"dataframe\">\n",
       "  <thead>\n",
       "    <tr style=\"text-align: right;\">\n",
       "      <th></th>\n",
       "      <th>avg_r2</th>\n",
       "      <th>avg_mae</th>\n",
       "      <th>avg_rmse</th>\n",
       "    </tr>\n",
       "  </thead>\n",
       "  <tbody>\n",
       "    <tr>\n",
       "      <th>Random Forest</th>\n",
       "      <td>-0.143945</td>\n",
       "      <td>0.235839</td>\n",
       "      <td>0.282979</td>\n",
       "    </tr>\n",
       "    <tr>\n",
       "      <th>SVR</th>\n",
       "      <td>-0.102190</td>\n",
       "      <td>0.231949</td>\n",
       "      <td>0.277769</td>\n",
       "    </tr>\n",
       "    <tr>\n",
       "      <th>GradientBoosting</th>\n",
       "      <td>-0.012068</td>\n",
       "      <td>0.223771</td>\n",
       "      <td>0.266167</td>\n",
       "    </tr>\n",
       "    <tr>\n",
       "      <th>AdaboostRegressor</th>\n",
       "      <td>-0.002267</td>\n",
       "      <td>0.222823</td>\n",
       "      <td>0.264877</td>\n",
       "    </tr>\n",
       "  </tbody>\n",
       "</table>\n",
       "</div>"
      ],
      "text/plain": [
       "                     avg_r2   avg_mae  avg_rmse\n",
       "Random Forest     -0.143945  0.235839  0.282979\n",
       "SVR               -0.102190  0.231949  0.277769\n",
       "GradientBoosting  -0.012068  0.223771  0.266167\n",
       "AdaboostRegressor -0.002267  0.222823  0.264877"
      ]
     },
     "execution_count": 49,
     "metadata": {},
     "output_type": "execute_result"
    }
   ],
   "source": [
    "cv_Scores_df"
   ]
  },
  {
   "cell_type": "code",
   "execution_count": 54,
   "id": "76277626",
   "metadata": {},
   "outputs": [],
   "source": [
    "cv_Scores_df.to_csv('Reports/Cross_validate/CV_scores_originaldf.csv')"
   ]
  },
  {
   "cell_type": "markdown",
   "id": "74f7f5e6",
   "metadata": {},
   "source": [
    "* Default training output"
   ]
  },
  {
   "cell_type": "code",
   "execution_count": 50,
   "id": "9716642b",
   "metadata": {},
   "outputs": [],
   "source": [
    "def_trained_models = train_models(default_model_dict, X_train_processed, y_train)"
   ]
  },
  {
   "cell_type": "code",
   "execution_count": 51,
   "id": "70cf0fa1",
   "metadata": {},
   "outputs": [],
   "source": [
    "default_report = evaluate_models(def_trained_models, X_train_processed, X_test_processed, y_train, y_test)"
   ]
  },
  {
   "cell_type": "code",
   "execution_count": 52,
   "id": "87131636",
   "metadata": {},
   "outputs": [
    {
     "data": {
      "text/html": [
       "<div>\n",
       "<style scoped>\n",
       "    .dataframe tbody tr th:only-of-type {\n",
       "        vertical-align: middle;\n",
       "    }\n",
       "\n",
       "    .dataframe tbody tr th {\n",
       "        vertical-align: top;\n",
       "    }\n",
       "\n",
       "    .dataframe thead th {\n",
       "        text-align: right;\n",
       "    }\n",
       "</style>\n",
       "<table border=\"1\" class=\"dataframe\">\n",
       "  <thead>\n",
       "    <tr style=\"text-align: right;\">\n",
       "      <th></th>\n",
       "      <th>RMSE</th>\n",
       "      <th>MAE</th>\n",
       "      <th>R2</th>\n",
       "    </tr>\n",
       "  </thead>\n",
       "  <tbody>\n",
       "    <tr>\n",
       "      <th>Random Forest</th>\n",
       "      <td>0.283031</td>\n",
       "      <td>0.23542</td>\n",
       "      <td>-0.14863</td>\n",
       "    </tr>\n",
       "    <tr>\n",
       "      <th>SVR</th>\n",
       "      <td>0.276302</td>\n",
       "      <td>0.230163</td>\n",
       "      <td>-0.094661</td>\n",
       "    </tr>\n",
       "    <tr>\n",
       "      <th>GradientBoosting</th>\n",
       "      <td>0.264969</td>\n",
       "      <td>0.222582</td>\n",
       "      <td>-0.006704</td>\n",
       "    </tr>\n",
       "    <tr>\n",
       "      <th>AdaboostRegressor</th>\n",
       "      <td>0.264153</td>\n",
       "      <td>0.222318</td>\n",
       "      <td>-0.000512</td>\n",
       "    </tr>\n",
       "  </tbody>\n",
       "</table>\n",
       "</div>"
      ],
      "text/plain": [
       "                       RMSE       MAE        R2\n",
       "Random Forest      0.283031   0.23542  -0.14863\n",
       "SVR                0.276302  0.230163 -0.094661\n",
       "GradientBoosting   0.264969  0.222582 -0.006704\n",
       "AdaboostRegressor  0.264153  0.222318 -0.000512"
      ]
     },
     "execution_count": 52,
     "metadata": {},
     "output_type": "execute_result"
    }
   ],
   "source": [
    "default_report"
   ]
  },
  {
   "cell_type": "code",
   "execution_count": 53,
   "id": "894da5e9",
   "metadata": {},
   "outputs": [],
   "source": [
    "default_report.to_csv('Reports/Default_reports/Default_report.csv')"
   ]
  },
  {
   "cell_type": "markdown",
   "id": "7952562f",
   "metadata": {},
   "source": [
    "### Insights:\n",
    "* MAE is not so good with 0.22-0.25 also R2 is in negative that states that model is performing worse than the average output.\n",
    "* MAE of 0.22 means the predicted values are 0.22 units away from average. 0.22 is 44% of 0.51 which is the average estimated stock level pct .\n"
   ]
  },
  {
   "cell_type": "markdown",
   "id": "62fce73d",
   "metadata": {},
   "source": [
    "### Feature selection using f_regression"
   ]
  },
  {
   "cell_type": "code",
   "execution_count": 199,
   "id": "ff693219",
   "metadata": {},
   "outputs": [
    {
     "data": {
      "image/png": "[encoded data removed]",
      "text/plain": [
       "<Figure size 640x480 with 1 Axes>"
      ]
     },
     "metadata": {},
     "output_type": "display_data"
    }
   ],
   "source": [
    "def select_features(X_train, y_train, N):\n",
    "    # Perform f_regression\n",
    "    f_values, p_values = f_regression(X_train, y_train)\n",
    "    \n",
    "    # Get the indices sorted by f_values\n",
    "    indices = np.argsort(f_values)\n",
    "    \n",
    "    # Select top N indices\n",
    "    top_n_indices = indices[-N:]\n",
    "    \n",
    "    # Get feature names\n",
    "    top_n_feature_names = X_train.columns[top_n_indices]\n",
    "    \n",
    "    # Get corresponding f_values\n",
    "    top_n_f_values = f_values[top_n_indices]\n",
    "    \n",
    "    return top_n_feature_names, top_n_f_values\n",
    "\n",
    "def plot_features(feature_names, f_values):\n",
    "    # Create horizontal bar plot\n",
    "    plt.barh(feature_names, f_values, color='skyblue')\n",
    "    plt.xlabel('F-values')\n",
    "    plt.title('Top N Features')\n",
    "    plt.show()\n",
    "\n",
    "# Assuming X_train and y_train are defined\n",
    "N = 10  # Change this to the number of features you want\n",
    "top_n_feature_names, top_n_f_values = select_features(X_train_processed, y_train, N)\n",
    "plot_features(top_n_feature_names, top_n_f_values)"
   ]
  },
  {
   "cell_type": "code",
   "execution_count": 201,
   "id": "34f93c2c",
   "metadata": {},
   "outputs": [
    {
     "data": {
      "text/plain": [
       "['category_fruit',\n",
       " 'hour',\n",
       " 'category_personal care',\n",
       " 'category_pets',\n",
       " 'category_kitchen',\n",
       " 'day_of_month',\n",
       " 'category_beverages',\n",
       " 'category_refrigerated items',\n",
       " 'category_meat',\n",
       " 'unit_price']"
      ]
     },
     "execution_count": 201,
     "metadata": {},
     "output_type": "execute_result"
    }
   ],
   "source": [
    "top_n_feature_names.to_list()"
   ]
  },
  {
   "cell_type": "markdown",
   "id": "9805a29e",
   "metadata": {},
   "source": [
    "We will filter out columns based on the above graph and then try model training."
   ]
  },
  {
   "cell_type": "code",
   "execution_count": 204,
   "id": "c7ecab85",
   "metadata": {},
   "outputs": [],
   "source": [
    "Xtr = X_train_processed[top_n_feature_names.to_list()]\n",
    "Xts = X_test_processed[top_n_feature_names.to_list()]"
   ]
  },
  {
   "cell_type": "code",
   "execution_count": 205,
   "id": "54a534c3",
   "metadata": {},
   "outputs": [
    {
     "data": {
      "text/plain": [
       "((8676, 10), (2169, 10))"
      ]
     },
     "execution_count": 205,
     "metadata": {},
     "output_type": "execute_result"
    }
   ],
   "source": [
    "Xtr.shape,Xts.shape"
   ]
  },
  {
   "cell_type": "code",
   "execution_count": 226,
   "id": "ac4cdcac",
   "metadata": {},
   "outputs": [],
   "source": [
    "# Xtr.to_csv('Merged_datasets/Preprocessed_fregression/Xtr_freg.csv',index=False)\n",
    "# Xts.to_csv('Merged_datasets/Preprocessed_fregression/Xts_freg.csv',index=False)\n",
    "# y_train.to_csv('Merged_datasets/Preprocessed_fregression/y_train.csv',index=False)\n",
    "# y_test.to_csv('Merged_datasets/Preprocessed_fregression/y_test.csv',index=False)"
   ]
  },
  {
   "cell_type": "markdown",
   "id": "67494cc0",
   "metadata": {},
   "source": [
    "__We narrowed down to 10 features out of 27__"
   ]
  },
  {
   "cell_type": "code",
   "execution_count": 222,
   "id": "87124722",
   "metadata": {},
   "outputs": [],
   "source": [
    "cv_Scores_df_freg = train_models_cv(default_model_dict, Xtr, y_train,cv=5)"
   ]
  },
  {
   "cell_type": "code",
   "execution_count": 223,
   "id": "f1f87ded",
   "metadata": {},
   "outputs": [
    {
     "data": {
      "text/html": [
       "<div>\n",
       "<style scoped>\n",
       "    .dataframe tbody tr th:only-of-type {\n",
       "        vertical-align: middle;\n",
       "    }\n",
       "\n",
       "    .dataframe tbody tr th {\n",
       "        vertical-align: top;\n",
       "    }\n",
       "\n",
       "    .dataframe thead th {\n",
       "        text-align: right;\n",
       "    }\n",
       "</style>\n",
       "<table border=\"1\" class=\"dataframe\">\n",
       "  <thead>\n",
       "    <tr style=\"text-align: right;\">\n",
       "      <th></th>\n",
       "      <th>avg_r2</th>\n",
       "      <th>avg_mae</th>\n",
       "      <th>avg_rmse</th>\n",
       "    </tr>\n",
       "  </thead>\n",
       "  <tbody>\n",
       "    <tr>\n",
       "      <th>Linear Regression</th>\n",
       "      <td>-0.000951</td>\n",
       "      <td>0.222604</td>\n",
       "      <td>0.264703</td>\n",
       "    </tr>\n",
       "    <tr>\n",
       "      <th>Decision Tree</th>\n",
       "      <td>-0.891224</td>\n",
       "      <td>0.295981</td>\n",
       "      <td>0.363797</td>\n",
       "    </tr>\n",
       "    <tr>\n",
       "      <th>Random Forest</th>\n",
       "      <td>-0.290635</td>\n",
       "      <td>0.247575</td>\n",
       "      <td>0.300566</td>\n",
       "    </tr>\n",
       "    <tr>\n",
       "      <th>SVR</th>\n",
       "      <td>-0.041362</td>\n",
       "      <td>0.226310</td>\n",
       "      <td>0.269994</td>\n",
       "    </tr>\n",
       "    <tr>\n",
       "      <th>GradientBoosting</th>\n",
       "      <td>-0.010989</td>\n",
       "      <td>0.223731</td>\n",
       "      <td>0.266028</td>\n",
       "    </tr>\n",
       "  </tbody>\n",
       "</table>\n",
       "</div>"
      ],
      "text/plain": [
       "                     avg_r2   avg_mae  avg_rmse\n",
       "Linear Regression -0.000951  0.222604  0.264703\n",
       "Decision Tree     -0.891224  0.295981  0.363797\n",
       "Random Forest     -0.290635  0.247575  0.300566\n",
       "SVR               -0.041362  0.226310  0.269994\n",
       "GradientBoosting  -0.010989  0.223731  0.266028"
      ]
     },
     "execution_count": 223,
     "metadata": {},
     "output_type": "execute_result"
    }
   ],
   "source": [
    "cv_Scores_df_freg"
   ]
  },
  {
   "cell_type": "code",
   "execution_count": 229,
   "id": "d24ed509",
   "metadata": {},
   "outputs": [],
   "source": [
    "# cv_Scores_df_freg.to_csv('Reports/Cross_validate/CV_scores_freg.csv')"
   ]
  },
  {
   "cell_type": "code",
   "execution_count": 236,
   "id": "3b5b5145",
   "metadata": {},
   "outputs": [],
   "source": [
    "def_mod_freg = train_models(default_model_dict, Xtr, y_train,)"
   ]
  },
  {
   "cell_type": "code",
   "execution_count": 237,
   "id": "fb4f2ad0",
   "metadata": {},
   "outputs": [],
   "source": [
    "def_mod_freg = evaluate_models(def_mod_freg, Xtr, Xts, y_train, y_test)"
   ]
  },
  {
   "cell_type": "code",
   "execution_count": 239,
   "id": "5a12a91f",
   "metadata": {},
   "outputs": [
    {
     "data": {
      "text/html": [
       "<div>\n",
       "<style scoped>\n",
       "    .dataframe tbody tr th:only-of-type {\n",
       "        vertical-align: middle;\n",
       "    }\n",
       "\n",
       "    .dataframe tbody tr th {\n",
       "        vertical-align: top;\n",
       "    }\n",
       "\n",
       "    .dataframe thead th {\n",
       "        text-align: right;\n",
       "    }\n",
       "</style>\n",
       "<table border=\"1\" class=\"dataframe\">\n",
       "  <thead>\n",
       "    <tr style=\"text-align: right;\">\n",
       "      <th></th>\n",
       "      <th>RMSE</th>\n",
       "      <th>MAE</th>\n",
       "      <th>R2</th>\n",
       "    </tr>\n",
       "  </thead>\n",
       "  <tbody>\n",
       "    <tr>\n",
       "      <th>Linear Regression</th>\n",
       "      <td>0.264306</td>\n",
       "      <td>0.222208</td>\n",
       "      <td>-0.001671</td>\n",
       "    </tr>\n",
       "    <tr>\n",
       "      <th>Decision Tree</th>\n",
       "      <td>0.361029</td>\n",
       "      <td>0.294953</td>\n",
       "      <td>-0.868941</td>\n",
       "    </tr>\n",
       "    <tr>\n",
       "      <th>Random Forest</th>\n",
       "      <td>0.302746</td>\n",
       "      <td>0.249984</td>\n",
       "      <td>-0.314224</td>\n",
       "    </tr>\n",
       "    <tr>\n",
       "      <th>SVR</th>\n",
       "      <td>0.268629</td>\n",
       "      <td>0.224926</td>\n",
       "      <td>-0.034707</td>\n",
       "    </tr>\n",
       "    <tr>\n",
       "      <th>GradientBoosting</th>\n",
       "      <td>0.265955</td>\n",
       "      <td>0.223217</td>\n",
       "      <td>-0.014211</td>\n",
       "    </tr>\n",
       "  </tbody>\n",
       "</table>\n",
       "</div>"
      ],
      "text/plain": [
       "                       RMSE       MAE        R2\n",
       "Linear Regression  0.264306  0.222208 -0.001671\n",
       "Decision Tree      0.361029  0.294953 -0.868941\n",
       "Random Forest      0.302746  0.249984 -0.314224\n",
       "SVR                0.268629  0.224926 -0.034707\n",
       "GradientBoosting   0.265955  0.223217 -0.014211"
      ]
     },
     "execution_count": 239,
     "metadata": {},
     "output_type": "execute_result"
    }
   ],
   "source": [
    "def_mod_freg"
   ]
  },
  {
   "cell_type": "code",
   "execution_count": 240,
   "id": "c8390370",
   "metadata": {},
   "outputs": [],
   "source": [
    "# def_mod_freg.to_csv('Reports/Cross_validate/default_scores_freg.csv')"
   ]
  },
  {
   "cell_type": "markdown",
   "id": "aeac11e3",
   "metadata": {},
   "source": [
    "### Insights:\n",
    "* Not much of a difference compared to earlier.\n",
    "* We need to improve R2 and lower MAE,RMSE."
   ]
  },
  {
   "cell_type": "code",
   "execution_count": null,
   "id": "7c9adca7",
   "metadata": {},
   "outputs": [],
   "source": []
  },
  {
   "cell_type": "markdown",
   "id": "f568326c",
   "metadata": {},
   "source": [
    "# 7. Adding Few new columns"
   ]
  },
  {
   "cell_type": "code",
   "execution_count": 621,
   "id": "a03fb3e2",
   "metadata": {},
   "outputs": [
    {
     "data": {
      "text/html": [
       "<div>\n",
       "<style scoped>\n",
       "    .dataframe tbody tr th:only-of-type {\n",
       "        vertical-align: middle;\n",
       "    }\n",
       "\n",
       "    .dataframe tbody tr th {\n",
       "        vertical-align: top;\n",
       "    }\n",
       "\n",
       "    .dataframe thead th {\n",
       "        text-align: right;\n",
       "    }\n",
       "</style>\n",
       "<table border=\"1\" class=\"dataframe\">\n",
       "  <thead>\n",
       "    <tr style=\"text-align: right;\">\n",
       "      <th></th>\n",
       "      <th>timestamp_hourly</th>\n",
       "      <th>product_id</th>\n",
       "      <th>estimated_stock_pct</th>\n",
       "      <th>quantity</th>\n",
       "      <th>temperature</th>\n",
       "      <th>category</th>\n",
       "      <th>unit_price</th>\n",
       "    </tr>\n",
       "  </thead>\n",
       "  <tbody>\n",
       "    <tr>\n",
       "      <th>0</th>\n",
       "      <td>2022-03-01 09:00</td>\n",
       "      <td>00e120bb-89d6-4df5-bc48-a051148e3d03</td>\n",
       "      <td>0.89</td>\n",
       "      <td>3.0</td>\n",
       "      <td>-0.02885</td>\n",
       "      <td>kitchen</td>\n",
       "      <td>11.19</td>\n",
       "    </tr>\n",
       "    <tr>\n",
       "      <th>1</th>\n",
       "      <td>2022-03-01 09:00</td>\n",
       "      <td>01f3cdd9-8e9e-4dff-9b5c-69698a0388d0</td>\n",
       "      <td>0.14</td>\n",
       "      <td>3.0</td>\n",
       "      <td>-0.02885</td>\n",
       "      <td>vegetables</td>\n",
       "      <td>1.49</td>\n",
       "    </tr>\n",
       "    <tr>\n",
       "      <th>2</th>\n",
       "      <td>2022-03-01 09:00</td>\n",
       "      <td>01ff0803-ae73-4234-971d-5713c97b7f4b</td>\n",
       "      <td>0.67</td>\n",
       "      <td>0.0</td>\n",
       "      <td>-0.02885</td>\n",
       "      <td>baby products</td>\n",
       "      <td>14.19</td>\n",
       "    </tr>\n",
       "    <tr>\n",
       "      <th>3</th>\n",
       "      <td>2022-03-01 09:00</td>\n",
       "      <td>0363eb21-8c74-47e1-a216-c37e565e5ceb</td>\n",
       "      <td>0.82</td>\n",
       "      <td>0.0</td>\n",
       "      <td>-0.02885</td>\n",
       "      <td>beverages</td>\n",
       "      <td>20.19</td>\n",
       "    </tr>\n",
       "    <tr>\n",
       "      <th>4</th>\n",
       "      <td>2022-03-01 09:00</td>\n",
       "      <td>03f0b20e-3b5b-444f-bc39-cdfa2523d4bc</td>\n",
       "      <td>0.05</td>\n",
       "      <td>0.0</td>\n",
       "      <td>-0.02885</td>\n",
       "      <td>pets</td>\n",
       "      <td>8.19</td>\n",
       "    </tr>\n",
       "  </tbody>\n",
       "</table>\n",
       "</div>"
      ],
      "text/plain": [
       "   timestamp_hourly                            product_id  \\\n",
       "0  2022-03-01 09:00  00e120bb-89d6-4df5-bc48-a051148e3d03   \n",
       "1  2022-03-01 09:00  01f3cdd9-8e9e-4dff-9b5c-69698a0388d0   \n",
       "2  2022-03-01 09:00  01ff0803-ae73-4234-971d-5713c97b7f4b   \n",
       "3  2022-03-01 09:00  0363eb21-8c74-47e1-a216-c37e565e5ceb   \n",
       "4  2022-03-01 09:00  03f0b20e-3b5b-444f-bc39-cdfa2523d4bc   \n",
       "\n",
       "   estimated_stock_pct  quantity  temperature       category  unit_price  \n",
       "0                 0.89       3.0     -0.02885        kitchen       11.19  \n",
       "1                 0.14       3.0     -0.02885     vegetables        1.49  \n",
       "2                 0.67       0.0     -0.02885  baby products       14.19  \n",
       "3                 0.82       0.0     -0.02885      beverages       20.19  \n",
       "4                 0.05       0.0     -0.02885           pets        8.19  "
      ]
     },
     "execution_count": 621,
     "metadata": {},
     "output_type": "execute_result"
    }
   ],
   "source": [
    "df_merged_og = pd.read_csv('Merged_datasets/Merged_df_original_new.csv')\n",
    "df_merged_og.head()"
   ]
  },
  {
   "cell_type": "code",
   "execution_count": 622,
   "id": "fabd54e3",
   "metadata": {},
   "outputs": [
    {
     "name": "stdout",
     "output_type": "stream",
     "text": [
      "<class 'pandas.core.frame.DataFrame'>\n",
      "RangeIndex: 10845 entries, 0 to 10844\n",
      "Data columns (total 7 columns):\n",
      " #   Column               Non-Null Count  Dtype  \n",
      "---  ------               --------------  -----  \n",
      " 0   timestamp_hourly     10845 non-null  object \n",
      " 1   product_id           10845 non-null  object \n",
      " 2   estimated_stock_pct  10845 non-null  float64\n",
      " 3   quantity             10845 non-null  float64\n",
      " 4   temperature          10845 non-null  float64\n",
      " 5   category             10845 non-null  object \n",
      " 6   unit_price           10845 non-null  float64\n",
      "dtypes: float64(4), object(3)\n",
      "memory usage: 593.2+ KB\n"
     ]
    }
   ],
   "source": [
    "df_merged_og.info()"
   ]
  },
  {
   "cell_type": "code",
   "execution_count": 623,
   "id": "234ba563",
   "metadata": {},
   "outputs": [],
   "source": [
    "df_merged_og['timestamp_hourly'] = pd.to_datetime(df_merged_og['timestamp_hourly'])\n",
    "\n",
    "df_merged_og['day_of_week'] = df_merged_og['timestamp_hourly'].dt.dayofweek\n",
    "\n",
    "# Add is_weekend feature\n",
    "df_merged_og['is_weekend'] = df_merged_og['day_of_week'].apply(lambda x: 1 if x >= 5 else 0)\n",
    "\n",
    "# Add month feature\n",
    "df_merged_og['month'] = df_merged_og['timestamp_hourly'].dt.month\n",
    "\n",
    "df_merged_og['hour'] = df_merged_og['timestamp_hourly'].dt.hour"
   ]
  },
  {
   "cell_type": "code",
   "execution_count": null,
   "id": "9058a5a7",
   "metadata": {},
   "outputs": [],
   "source": []
  },
  {
   "cell_type": "code",
   "execution_count": 603,
   "id": "6b96a4dd",
   "metadata": {},
   "outputs": [
    {
     "data": {
      "text/html": [
       "<div>\n",
       "<style scoped>\n",
       "    .dataframe tbody tr th:only-of-type {\n",
       "        vertical-align: middle;\n",
       "    }\n",
       "\n",
       "    .dataframe tbody tr th {\n",
       "        vertical-align: top;\n",
       "    }\n",
       "\n",
       "    .dataframe thead th {\n",
       "        text-align: right;\n",
       "    }\n",
       "</style>\n",
       "<table border=\"1\" class=\"dataframe\">\n",
       "  <thead>\n",
       "    <tr style=\"text-align: right;\">\n",
       "      <th></th>\n",
       "      <th>timestamp_hourly</th>\n",
       "      <th>product_id</th>\n",
       "      <th>estimated_stock_pct</th>\n",
       "      <th>quantity</th>\n",
       "      <th>temperature</th>\n",
       "      <th>category</th>\n",
       "      <th>unit_price</th>\n",
       "      <th>day_of_week</th>\n",
       "      <th>is_weekend</th>\n",
       "      <th>month</th>\n",
       "      <th>hour</th>\n",
       "    </tr>\n",
       "  </thead>\n",
       "  <tbody>\n",
       "    <tr>\n",
       "      <th>0</th>\n",
       "      <td>2022-03-01 09:00:00</td>\n",
       "      <td>00e120bb-89d6-4df5-bc48-a051148e3d03</td>\n",
       "      <td>0.89</td>\n",
       "      <td>3.0</td>\n",
       "      <td>-0.02885</td>\n",
       "      <td>kitchen</td>\n",
       "      <td>11.19</td>\n",
       "      <td>1</td>\n",
       "      <td>0</td>\n",
       "      <td>3</td>\n",
       "      <td>9</td>\n",
       "    </tr>\n",
       "    <tr>\n",
       "      <th>1</th>\n",
       "      <td>2022-03-01 09:00:00</td>\n",
       "      <td>01f3cdd9-8e9e-4dff-9b5c-69698a0388d0</td>\n",
       "      <td>0.14</td>\n",
       "      <td>3.0</td>\n",
       "      <td>-0.02885</td>\n",
       "      <td>vegetables</td>\n",
       "      <td>1.49</td>\n",
       "      <td>1</td>\n",
       "      <td>0</td>\n",
       "      <td>3</td>\n",
       "      <td>9</td>\n",
       "    </tr>\n",
       "    <tr>\n",
       "      <th>2</th>\n",
       "      <td>2022-03-01 09:00:00</td>\n",
       "      <td>01ff0803-ae73-4234-971d-5713c97b7f4b</td>\n",
       "      <td>0.67</td>\n",
       "      <td>0.0</td>\n",
       "      <td>-0.02885</td>\n",
       "      <td>baby products</td>\n",
       "      <td>14.19</td>\n",
       "      <td>1</td>\n",
       "      <td>0</td>\n",
       "      <td>3</td>\n",
       "      <td>9</td>\n",
       "    </tr>\n",
       "    <tr>\n",
       "      <th>3</th>\n",
       "      <td>2022-03-01 09:00:00</td>\n",
       "      <td>0363eb21-8c74-47e1-a216-c37e565e5ceb</td>\n",
       "      <td>0.82</td>\n",
       "      <td>0.0</td>\n",
       "      <td>-0.02885</td>\n",
       "      <td>beverages</td>\n",
       "      <td>20.19</td>\n",
       "      <td>1</td>\n",
       "      <td>0</td>\n",
       "      <td>3</td>\n",
       "      <td>9</td>\n",
       "    </tr>\n",
       "    <tr>\n",
       "      <th>4</th>\n",
       "      <td>2022-03-01 09:00:00</td>\n",
       "      <td>03f0b20e-3b5b-444f-bc39-cdfa2523d4bc</td>\n",
       "      <td>0.05</td>\n",
       "      <td>0.0</td>\n",
       "      <td>-0.02885</td>\n",
       "      <td>pets</td>\n",
       "      <td>8.19</td>\n",
       "      <td>1</td>\n",
       "      <td>0</td>\n",
       "      <td>3</td>\n",
       "      <td>9</td>\n",
       "    </tr>\n",
       "  </tbody>\n",
       "</table>\n",
       "</div>"
      ],
      "text/plain": [
       "     timestamp_hourly                            product_id  \\\n",
       "0 2022-03-01 09:00:00  00e120bb-89d6-4df5-bc48-a051148e3d03   \n",
       "1 2022-03-01 09:00:00  01f3cdd9-8e9e-4dff-9b5c-69698a0388d0   \n",
       "2 2022-03-01 09:00:00  01ff0803-ae73-4234-971d-5713c97b7f4b   \n",
       "3 2022-03-01 09:00:00  0363eb21-8c74-47e1-a216-c37e565e5ceb   \n",
       "4 2022-03-01 09:00:00  03f0b20e-3b5b-444f-bc39-cdfa2523d4bc   \n",
       "\n",
       "   estimated_stock_pct  quantity  temperature       category  unit_price  \\\n",
       "0                 0.89       3.0     -0.02885        kitchen       11.19   \n",
       "1                 0.14       3.0     -0.02885     vegetables        1.49   \n",
       "2                 0.67       0.0     -0.02885  baby products       14.19   \n",
       "3                 0.82       0.0     -0.02885      beverages       20.19   \n",
       "4                 0.05       0.0     -0.02885           pets        8.19   \n",
       "\n",
       "   day_of_week  is_weekend  month  hour  \n",
       "0            1           0      3     9  \n",
       "1            1           0      3     9  \n",
       "2            1           0      3     9  \n",
       "3            1           0      3     9  \n",
       "4            1           0      3     9  "
      ]
     },
     "execution_count": 603,
     "metadata": {},
     "output_type": "execute_result"
    }
   ],
   "source": [
    "df_merged_og.head()"
   ]
  },
  {
   "cell_type": "code",
   "execution_count": 624,
   "id": "efcd1ecb",
   "metadata": {},
   "outputs": [],
   "source": [
    "# Add lagged features\n",
    "df_merged_og['quantity_lag1'] = df_merged_og.groupby('product_id')['quantity'].shift(1)\n",
    "df_merged_og['temperature_lag1'] = df_merged_og['temperature'].shift(1)\n",
    "\n",
    "# Add rolling window statistics\n",
    "df_merged_og['quantity_rolling_avg3'] = df_merged_og.groupby('product_id')['quantity'].transform(lambda x: x.rolling(3).mean())\n",
    "df_merged_og['temperature_rolling_avg3'] = df_merged_og['temperature'].transform(lambda x: x.rolling(3).mean())"
   ]
  },
  {
   "cell_type": "code",
   "execution_count": 625,
   "id": "86a5abd0",
   "metadata": {},
   "outputs": [
    {
     "data": {
      "text/html": [
       "<div>\n",
       "<style scoped>\n",
       "    .dataframe tbody tr th:only-of-type {\n",
       "        vertical-align: middle;\n",
       "    }\n",
       "\n",
       "    .dataframe tbody tr th {\n",
       "        vertical-align: top;\n",
       "    }\n",
       "\n",
       "    .dataframe thead th {\n",
       "        text-align: right;\n",
       "    }\n",
       "</style>\n",
       "<table border=\"1\" class=\"dataframe\">\n",
       "  <thead>\n",
       "    <tr style=\"text-align: right;\">\n",
       "      <th></th>\n",
       "      <th>timestamp_hourly</th>\n",
       "      <th>product_id</th>\n",
       "      <th>estimated_stock_pct</th>\n",
       "      <th>quantity</th>\n",
       "      <th>temperature</th>\n",
       "      <th>category</th>\n",
       "      <th>unit_price</th>\n",
       "      <th>day_of_week</th>\n",
       "      <th>is_weekend</th>\n",
       "      <th>month</th>\n",
       "      <th>hour</th>\n",
       "      <th>quantity_lag1</th>\n",
       "      <th>temperature_lag1</th>\n",
       "      <th>quantity_rolling_avg3</th>\n",
       "      <th>temperature_rolling_avg3</th>\n",
       "    </tr>\n",
       "  </thead>\n",
       "  <tbody>\n",
       "    <tr>\n",
       "      <th>0</th>\n",
       "      <td>2022-03-01 09:00:00</td>\n",
       "      <td>00e120bb-89d6-4df5-bc48-a051148e3d03</td>\n",
       "      <td>0.89</td>\n",
       "      <td>3.0</td>\n",
       "      <td>-0.028850</td>\n",
       "      <td>kitchen</td>\n",
       "      <td>11.19</td>\n",
       "      <td>1</td>\n",
       "      <td>0</td>\n",
       "      <td>3</td>\n",
       "      <td>9</td>\n",
       "      <td>NaN</td>\n",
       "      <td>NaN</td>\n",
       "      <td>NaN</td>\n",
       "      <td>NaN</td>\n",
       "    </tr>\n",
       "    <tr>\n",
       "      <th>1</th>\n",
       "      <td>2022-03-01 09:00:00</td>\n",
       "      <td>01f3cdd9-8e9e-4dff-9b5c-69698a0388d0</td>\n",
       "      <td>0.14</td>\n",
       "      <td>3.0</td>\n",
       "      <td>-0.028850</td>\n",
       "      <td>vegetables</td>\n",
       "      <td>1.49</td>\n",
       "      <td>1</td>\n",
       "      <td>0</td>\n",
       "      <td>3</td>\n",
       "      <td>9</td>\n",
       "      <td>NaN</td>\n",
       "      <td>-0.028850</td>\n",
       "      <td>NaN</td>\n",
       "      <td>NaN</td>\n",
       "    </tr>\n",
       "    <tr>\n",
       "      <th>2</th>\n",
       "      <td>2022-03-01 09:00:00</td>\n",
       "      <td>01ff0803-ae73-4234-971d-5713c97b7f4b</td>\n",
       "      <td>0.67</td>\n",
       "      <td>0.0</td>\n",
       "      <td>-0.028850</td>\n",
       "      <td>baby products</td>\n",
       "      <td>14.19</td>\n",
       "      <td>1</td>\n",
       "      <td>0</td>\n",
       "      <td>3</td>\n",
       "      <td>9</td>\n",
       "      <td>NaN</td>\n",
       "      <td>-0.028850</td>\n",
       "      <td>NaN</td>\n",
       "      <td>-0.028850</td>\n",
       "    </tr>\n",
       "    <tr>\n",
       "      <th>3</th>\n",
       "      <td>2022-03-01 09:00:00</td>\n",
       "      <td>0363eb21-8c74-47e1-a216-c37e565e5ceb</td>\n",
       "      <td>0.82</td>\n",
       "      <td>0.0</td>\n",
       "      <td>-0.028850</td>\n",
       "      <td>beverages</td>\n",
       "      <td>20.19</td>\n",
       "      <td>1</td>\n",
       "      <td>0</td>\n",
       "      <td>3</td>\n",
       "      <td>9</td>\n",
       "      <td>NaN</td>\n",
       "      <td>-0.028850</td>\n",
       "      <td>NaN</td>\n",
       "      <td>-0.028850</td>\n",
       "    </tr>\n",
       "    <tr>\n",
       "      <th>4</th>\n",
       "      <td>2022-03-01 09:00:00</td>\n",
       "      <td>03f0b20e-3b5b-444f-bc39-cdfa2523d4bc</td>\n",
       "      <td>0.05</td>\n",
       "      <td>0.0</td>\n",
       "      <td>-0.028850</td>\n",
       "      <td>pets</td>\n",
       "      <td>8.19</td>\n",
       "      <td>1</td>\n",
       "      <td>0</td>\n",
       "      <td>3</td>\n",
       "      <td>9</td>\n",
       "      <td>NaN</td>\n",
       "      <td>-0.028850</td>\n",
       "      <td>NaN</td>\n",
       "      <td>-0.028850</td>\n",
       "    </tr>\n",
       "    <tr>\n",
       "      <th>...</th>\n",
       "      <td>...</td>\n",
       "      <td>...</td>\n",
       "      <td>...</td>\n",
       "      <td>...</td>\n",
       "      <td>...</td>\n",
       "      <td>...</td>\n",
       "      <td>...</td>\n",
       "      <td>...</td>\n",
       "      <td>...</td>\n",
       "      <td>...</td>\n",
       "      <td>...</td>\n",
       "      <td>...</td>\n",
       "      <td>...</td>\n",
       "      <td>...</td>\n",
       "      <td>...</td>\n",
       "    </tr>\n",
       "    <tr>\n",
       "      <th>10840</th>\n",
       "      <td>2022-03-07 19:00:00</td>\n",
       "      <td>ecac012c-1dec-41d4-9ebd-56fb7166f6d9</td>\n",
       "      <td>0.50</td>\n",
       "      <td>4.0</td>\n",
       "      <td>-0.165077</td>\n",
       "      <td>fruit</td>\n",
       "      <td>4.99</td>\n",
       "      <td>0</td>\n",
       "      <td>0</td>\n",
       "      <td>3</td>\n",
       "      <td>19</td>\n",
       "      <td>0.0</td>\n",
       "      <td>-0.165077</td>\n",
       "      <td>2.666667</td>\n",
       "      <td>-0.165077</td>\n",
       "    </tr>\n",
       "    <tr>\n",
       "      <th>10841</th>\n",
       "      <td>2022-03-07 19:00:00</td>\n",
       "      <td>ed7f6b14-67c9-42a4-8576-c803020eedda</td>\n",
       "      <td>0.26</td>\n",
       "      <td>0.0</td>\n",
       "      <td>-0.165077</td>\n",
       "      <td>meat</td>\n",
       "      <td>19.99</td>\n",
       "      <td>0</td>\n",
       "      <td>0</td>\n",
       "      <td>3</td>\n",
       "      <td>19</td>\n",
       "      <td>2.0</td>\n",
       "      <td>-0.165077</td>\n",
       "      <td>0.666667</td>\n",
       "      <td>-0.165077</td>\n",
       "    </tr>\n",
       "    <tr>\n",
       "      <th>10842</th>\n",
       "      <td>2022-03-07 19:00:00</td>\n",
       "      <td>edf4ac93-4e14-4a3d-8c60-e715210cf3f9</td>\n",
       "      <td>0.78</td>\n",
       "      <td>3.0</td>\n",
       "      <td>-0.165077</td>\n",
       "      <td>packaged foods</td>\n",
       "      <td>6.99</td>\n",
       "      <td>0</td>\n",
       "      <td>0</td>\n",
       "      <td>3</td>\n",
       "      <td>19</td>\n",
       "      <td>0.0</td>\n",
       "      <td>-0.165077</td>\n",
       "      <td>2.000000</td>\n",
       "      <td>-0.165077</td>\n",
       "    </tr>\n",
       "    <tr>\n",
       "      <th>10843</th>\n",
       "      <td>2022-03-07 19:00:00</td>\n",
       "      <td>f01b189c-6345-4639-a8d1-89e1fc67c443</td>\n",
       "      <td>0.92</td>\n",
       "      <td>3.0</td>\n",
       "      <td>-0.165077</td>\n",
       "      <td>meat</td>\n",
       "      <td>14.99</td>\n",
       "      <td>0</td>\n",
       "      <td>0</td>\n",
       "      <td>3</td>\n",
       "      <td>19</td>\n",
       "      <td>0.0</td>\n",
       "      <td>-0.165077</td>\n",
       "      <td>1.000000</td>\n",
       "      <td>-0.165077</td>\n",
       "    </tr>\n",
       "    <tr>\n",
       "      <th>10844</th>\n",
       "      <td>2022-03-07 19:00:00</td>\n",
       "      <td>f3bec808-bee0-4597-a129-53a3a2805a43</td>\n",
       "      <td>0.01</td>\n",
       "      <td>2.0</td>\n",
       "      <td>-0.165077</td>\n",
       "      <td>beverages</td>\n",
       "      <td>5.19</td>\n",
       "      <td>0</td>\n",
       "      <td>0</td>\n",
       "      <td>3</td>\n",
       "      <td>19</td>\n",
       "      <td>0.0</td>\n",
       "      <td>-0.165077</td>\n",
       "      <td>0.666667</td>\n",
       "      <td>-0.165077</td>\n",
       "    </tr>\n",
       "  </tbody>\n",
       "</table>\n",
       "<p>10845 rows × 15 columns</p>\n",
       "</div>"
      ],
      "text/plain": [
       "         timestamp_hourly                            product_id  \\\n",
       "0     2022-03-01 09:00:00  00e120bb-89d6-4df5-bc48-a051148e3d03   \n",
       "1     2022-03-01 09:00:00  01f3cdd9-8e9e-4dff-9b5c-69698a0388d0   \n",
       "2     2022-03-01 09:00:00  01ff0803-ae73-4234-971d-5713c97b7f4b   \n",
       "3     2022-03-01 09:00:00  0363eb21-8c74-47e1-a216-c37e565e5ceb   \n",
       "4     2022-03-01 09:00:00  03f0b20e-3b5b-444f-bc39-cdfa2523d4bc   \n",
       "...                   ...                                   ...   \n",
       "10840 2022-03-07 19:00:00  ecac012c-1dec-41d4-9ebd-56fb7166f6d9   \n",
       "10841 2022-03-07 19:00:00  ed7f6b14-67c9-42a4-8576-c803020eedda   \n",
       "10842 2022-03-07 19:00:00  edf4ac93-4e14-4a3d-8c60-e715210cf3f9   \n",
       "10843 2022-03-07 19:00:00  f01b189c-6345-4639-a8d1-89e1fc67c443   \n",
       "10844 2022-03-07 19:00:00  f3bec808-bee0-4597-a129-53a3a2805a43   \n",
       "\n",
       "       estimated_stock_pct  quantity  temperature        category  unit_price  \\\n",
       "0                     0.89       3.0    -0.028850         kitchen       11.19   \n",
       "1                     0.14       3.0    -0.028850      vegetables        1.49   \n",
       "2                     0.67       0.0    -0.028850   baby products       14.19   \n",
       "3                     0.82       0.0    -0.028850       beverages       20.19   \n",
       "4                     0.05       0.0    -0.028850            pets        8.19   \n",
       "...                    ...       ...          ...             ...         ...   \n",
       "10840                 0.50       4.0    -0.165077           fruit        4.99   \n",
       "10841                 0.26       0.0    -0.165077            meat       19.99   \n",
       "10842                 0.78       3.0    -0.165077  packaged foods        6.99   \n",
       "10843                 0.92       3.0    -0.165077            meat       14.99   \n",
       "10844                 0.01       2.0    -0.165077       beverages        5.19   \n",
       "\n",
       "       day_of_week  is_weekend  month  hour  quantity_lag1  temperature_lag1  \\\n",
       "0                1           0      3     9            NaN               NaN   \n",
       "1                1           0      3     9            NaN         -0.028850   \n",
       "2                1           0      3     9            NaN         -0.028850   \n",
       "3                1           0      3     9            NaN         -0.028850   \n",
       "4                1           0      3     9            NaN         -0.028850   \n",
       "...            ...         ...    ...   ...            ...               ...   \n",
       "10840            0           0      3    19            0.0         -0.165077   \n",
       "10841            0           0      3    19            2.0         -0.165077   \n",
       "10842            0           0      3    19            0.0         -0.165077   \n",
       "10843            0           0      3    19            0.0         -0.165077   \n",
       "10844            0           0      3    19            0.0         -0.165077   \n",
       "\n",
       "       quantity_rolling_avg3  temperature_rolling_avg3  \n",
       "0                        NaN                       NaN  \n",
       "1                        NaN                       NaN  \n",
       "2                        NaN                 -0.028850  \n",
       "3                        NaN                 -0.028850  \n",
       "4                        NaN                 -0.028850  \n",
       "...                      ...                       ...  \n",
       "10840               2.666667                 -0.165077  \n",
       "10841               0.666667                 -0.165077  \n",
       "10842               2.000000                 -0.165077  \n",
       "10843               1.000000                 -0.165077  \n",
       "10844               0.666667                 -0.165077  \n",
       "\n",
       "[10845 rows x 15 columns]"
      ]
     },
     "execution_count": 625,
     "metadata": {},
     "output_type": "execute_result"
    }
   ],
   "source": [
    "df_merged_og"
   ]
  },
  {
   "cell_type": "code",
   "execution_count": null,
   "id": "b93a6a7d",
   "metadata": {},
   "outputs": [],
   "source": []
  },
  {
   "cell_type": "code",
   "execution_count": 626,
   "id": "d7f076a8",
   "metadata": {},
   "outputs": [],
   "source": [
    "df_merged_og.dropna(axis=0,inplace=True)"
   ]
  },
  {
   "cell_type": "code",
   "execution_count": 627,
   "id": "c03fb6bf",
   "metadata": {},
   "outputs": [],
   "source": [
    "df_merged_og.drop(['timestamp_hourly','product_id'],axis=1,inplace=True)"
   ]
  },
  {
   "cell_type": "code",
   "execution_count": 629,
   "id": "78365f0c",
   "metadata": {},
   "outputs": [],
   "source": [
    "X = df_merged_og.drop('estimated_stock_pct',axis=1)\n",
    "y = df_merged_og['estimated_stock_pct']"
   ]
  },
  {
   "cell_type": "code",
   "execution_count": 613,
   "id": "b935177c",
   "metadata": {},
   "outputs": [],
   "source": [
    "X.drop('category',axis=1,inplace=True)"
   ]
  },
  {
   "cell_type": "code",
   "execution_count": 614,
   "id": "e45c53ea",
   "metadata": {},
   "outputs": [],
   "source": [
    "\n",
    "X_train, X_test, y_train, y_test = train_test_split(X, y, test_size=0.2, random_state=42)\n"
   ]
  },
  {
   "cell_type": "code",
   "execution_count": 615,
   "id": "9cbb95e0",
   "metadata": {},
   "outputs": [],
   "source": [
    "sc1 = StandardScaler()\n"
   ]
  },
  {
   "cell_type": "code",
   "execution_count": 616,
   "id": "99e5972c",
   "metadata": {},
   "outputs": [],
   "source": [
    "X_train = pd.DataFrame(sc1.fit_transform(X_train),columns=X_train.columns)\n",
    "X_test = pd.DataFrame(sc1.transform(X_test),columns=X_test.columns)\n"
   ]
  },
  {
   "cell_type": "code",
   "execution_count": 617,
   "id": "cda967c6",
   "metadata": {},
   "outputs": [],
   "source": [
    "rep = train_models_cv(model_dict, X_train, y_train, cv=5)"
   ]
  },
  {
   "cell_type": "code",
   "execution_count": 618,
   "id": "2b9a46d1",
   "metadata": {},
   "outputs": [
    {
     "data": {
      "text/html": [
       "<div>\n",
       "<style scoped>\n",
       "    .dataframe tbody tr th:only-of-type {\n",
       "        vertical-align: middle;\n",
       "    }\n",
       "\n",
       "    .dataframe tbody tr th {\n",
       "        vertical-align: top;\n",
       "    }\n",
       "\n",
       "    .dataframe thead th {\n",
       "        text-align: right;\n",
       "    }\n",
       "</style>\n",
       "<table border=\"1\" class=\"dataframe\">\n",
       "  <thead>\n",
       "    <tr style=\"text-align: right;\">\n",
       "      <th></th>\n",
       "      <th>avg_r2</th>\n",
       "      <th>avg_mae</th>\n",
       "      <th>avg_rmse</th>\n",
       "    </tr>\n",
       "  </thead>\n",
       "  <tbody>\n",
       "    <tr>\n",
       "      <th>Linear Regression</th>\n",
       "      <td>-0.001277</td>\n",
       "      <td>0.222761</td>\n",
       "      <td>0.264794</td>\n",
       "    </tr>\n",
       "    <tr>\n",
       "      <th>Decision Tree</th>\n",
       "      <td>-0.999731</td>\n",
       "      <td>0.305832</td>\n",
       "      <td>0.374251</td>\n",
       "    </tr>\n",
       "    <tr>\n",
       "      <th>Random Forest</th>\n",
       "      <td>-0.209872</td>\n",
       "      <td>0.241383</td>\n",
       "      <td>0.291072</td>\n",
       "    </tr>\n",
       "    <tr>\n",
       "      <th>SVR</th>\n",
       "      <td>-0.058364</td>\n",
       "      <td>0.228115</td>\n",
       "      <td>0.272272</td>\n",
       "    </tr>\n",
       "    <tr>\n",
       "      <th>GradientBoosting</th>\n",
       "      <td>-0.009740</td>\n",
       "      <td>0.223651</td>\n",
       "      <td>0.265922</td>\n",
       "    </tr>\n",
       "  </tbody>\n",
       "</table>\n",
       "</div>"
      ],
      "text/plain": [
       "                     avg_r2   avg_mae  avg_rmse\n",
       "Linear Regression -0.001277  0.222761  0.264794\n",
       "Decision Tree     -0.999731  0.305832  0.374251\n",
       "Random Forest     -0.209872  0.241383  0.291072\n",
       "SVR               -0.058364  0.228115  0.272272\n",
       "GradientBoosting  -0.009740  0.223651  0.265922"
      ]
     },
     "execution_count": 618,
     "metadata": {},
     "output_type": "execute_result"
    }
   ],
   "source": [
    "rep"
   ]
  },
  {
   "cell_type": "markdown",
   "id": "2cbd59bc",
   "metadata": {},
   "source": [
    "## Insights:\n",
    "* ### Adding few columns wont change anything."
   ]
  },
  {
   "cell_type": "code",
   "execution_count": 3,
   "id": "bb2d4806",
   "metadata": {},
   "outputs": [
    {
     "data": {
      "text/html": [
       "<div>\n",
       "<style scoped>\n",
       "    .dataframe tbody tr th:only-of-type {\n",
       "        vertical-align: middle;\n",
       "    }\n",
       "\n",
       "    .dataframe tbody tr th {\n",
       "        vertical-align: top;\n",
       "    }\n",
       "\n",
       "    .dataframe thead th {\n",
       "        text-align: right;\n",
       "    }\n",
       "</style>\n",
       "<table border=\"1\" class=\"dataframe\">\n",
       "  <thead>\n",
       "    <tr style=\"text-align: right;\">\n",
       "      <th></th>\n",
       "      <th>timestamp_hourly</th>\n",
       "      <th>product_id</th>\n",
       "      <th>estimated_stock_pct</th>\n",
       "      <th>quantity</th>\n",
       "      <th>temperature</th>\n",
       "      <th>category</th>\n",
       "      <th>unit_price</th>\n",
       "    </tr>\n",
       "  </thead>\n",
       "  <tbody>\n",
       "    <tr>\n",
       "      <th>0</th>\n",
       "      <td>2022-03-01 09:00</td>\n",
       "      <td>00e120bb-89d6-4df5-bc48-a051148e3d03</td>\n",
       "      <td>0.89</td>\n",
       "      <td>3.0</td>\n",
       "      <td>-0.028850</td>\n",
       "      <td>kitchen</td>\n",
       "      <td>11.19</td>\n",
       "    </tr>\n",
       "    <tr>\n",
       "      <th>1</th>\n",
       "      <td>2022-03-01 09:00</td>\n",
       "      <td>01f3cdd9-8e9e-4dff-9b5c-69698a0388d0</td>\n",
       "      <td>0.14</td>\n",
       "      <td>3.0</td>\n",
       "      <td>-0.028850</td>\n",
       "      <td>vegetables</td>\n",
       "      <td>1.49</td>\n",
       "    </tr>\n",
       "    <tr>\n",
       "      <th>2</th>\n",
       "      <td>2022-03-01 09:00</td>\n",
       "      <td>01ff0803-ae73-4234-971d-5713c97b7f4b</td>\n",
       "      <td>0.67</td>\n",
       "      <td>0.0</td>\n",
       "      <td>-0.028850</td>\n",
       "      <td>baby products</td>\n",
       "      <td>14.19</td>\n",
       "    </tr>\n",
       "    <tr>\n",
       "      <th>3</th>\n",
       "      <td>2022-03-01 09:00</td>\n",
       "      <td>0363eb21-8c74-47e1-a216-c37e565e5ceb</td>\n",
       "      <td>0.82</td>\n",
       "      <td>0.0</td>\n",
       "      <td>-0.028850</td>\n",
       "      <td>beverages</td>\n",
       "      <td>20.19</td>\n",
       "    </tr>\n",
       "    <tr>\n",
       "      <th>4</th>\n",
       "      <td>2022-03-01 09:00</td>\n",
       "      <td>03f0b20e-3b5b-444f-bc39-cdfa2523d4bc</td>\n",
       "      <td>0.05</td>\n",
       "      <td>0.0</td>\n",
       "      <td>-0.028850</td>\n",
       "      <td>pets</td>\n",
       "      <td>8.19</td>\n",
       "    </tr>\n",
       "    <tr>\n",
       "      <th>...</th>\n",
       "      <td>...</td>\n",
       "      <td>...</td>\n",
       "      <td>...</td>\n",
       "      <td>...</td>\n",
       "      <td>...</td>\n",
       "      <td>...</td>\n",
       "      <td>...</td>\n",
       "    </tr>\n",
       "    <tr>\n",
       "      <th>10840</th>\n",
       "      <td>2022-03-07 19:00</td>\n",
       "      <td>ecac012c-1dec-41d4-9ebd-56fb7166f6d9</td>\n",
       "      <td>0.50</td>\n",
       "      <td>4.0</td>\n",
       "      <td>-0.165077</td>\n",
       "      <td>fruit</td>\n",
       "      <td>4.99</td>\n",
       "    </tr>\n",
       "    <tr>\n",
       "      <th>10841</th>\n",
       "      <td>2022-03-07 19:00</td>\n",
       "      <td>ed7f6b14-67c9-42a4-8576-c803020eedda</td>\n",
       "      <td>0.26</td>\n",
       "      <td>0.0</td>\n",
       "      <td>-0.165077</td>\n",
       "      <td>meat</td>\n",
       "      <td>19.99</td>\n",
       "    </tr>\n",
       "    <tr>\n",
       "      <th>10842</th>\n",
       "      <td>2022-03-07 19:00</td>\n",
       "      <td>edf4ac93-4e14-4a3d-8c60-e715210cf3f9</td>\n",
       "      <td>0.78</td>\n",
       "      <td>3.0</td>\n",
       "      <td>-0.165077</td>\n",
       "      <td>packaged foods</td>\n",
       "      <td>6.99</td>\n",
       "    </tr>\n",
       "    <tr>\n",
       "      <th>10843</th>\n",
       "      <td>2022-03-07 19:00</td>\n",
       "      <td>f01b189c-6345-4639-a8d1-89e1fc67c443</td>\n",
       "      <td>0.92</td>\n",
       "      <td>3.0</td>\n",
       "      <td>-0.165077</td>\n",
       "      <td>meat</td>\n",
       "      <td>14.99</td>\n",
       "    </tr>\n",
       "    <tr>\n",
       "      <th>10844</th>\n",
       "      <td>2022-03-07 19:00</td>\n",
       "      <td>f3bec808-bee0-4597-a129-53a3a2805a43</td>\n",
       "      <td>0.01</td>\n",
       "      <td>2.0</td>\n",
       "      <td>-0.165077</td>\n",
       "      <td>beverages</td>\n",
       "      <td>5.19</td>\n",
       "    </tr>\n",
       "  </tbody>\n",
       "</table>\n",
       "<p>10845 rows × 7 columns</p>\n",
       "</div>"
      ],
      "text/plain": [
       "       timestamp_hourly                            product_id  \\\n",
       "0      2022-03-01 09:00  00e120bb-89d6-4df5-bc48-a051148e3d03   \n",
       "1      2022-03-01 09:00  01f3cdd9-8e9e-4dff-9b5c-69698a0388d0   \n",
       "2      2022-03-01 09:00  01ff0803-ae73-4234-971d-5713c97b7f4b   \n",
       "3      2022-03-01 09:00  0363eb21-8c74-47e1-a216-c37e565e5ceb   \n",
       "4      2022-03-01 09:00  03f0b20e-3b5b-444f-bc39-cdfa2523d4bc   \n",
       "...                 ...                                   ...   \n",
       "10840  2022-03-07 19:00  ecac012c-1dec-41d4-9ebd-56fb7166f6d9   \n",
       "10841  2022-03-07 19:00  ed7f6b14-67c9-42a4-8576-c803020eedda   \n",
       "10842  2022-03-07 19:00  edf4ac93-4e14-4a3d-8c60-e715210cf3f9   \n",
       "10843  2022-03-07 19:00  f01b189c-6345-4639-a8d1-89e1fc67c443   \n",
       "10844  2022-03-07 19:00  f3bec808-bee0-4597-a129-53a3a2805a43   \n",
       "\n",
       "       estimated_stock_pct  quantity  temperature        category  unit_price  \n",
       "0                     0.89       3.0    -0.028850         kitchen       11.19  \n",
       "1                     0.14       3.0    -0.028850      vegetables        1.49  \n",
       "2                     0.67       0.0    -0.028850   baby products       14.19  \n",
       "3                     0.82       0.0    -0.028850       beverages       20.19  \n",
       "4                     0.05       0.0    -0.028850            pets        8.19  \n",
       "...                    ...       ...          ...             ...         ...  \n",
       "10840                 0.50       4.0    -0.165077           fruit        4.99  \n",
       "10841                 0.26       0.0    -0.165077            meat       19.99  \n",
       "10842                 0.78       3.0    -0.165077  packaged foods        6.99  \n",
       "10843                 0.92       3.0    -0.165077            meat       14.99  \n",
       "10844                 0.01       2.0    -0.165077       beverages        5.19  \n",
       "\n",
       "[10845 rows x 7 columns]"
      ]
     },
     "execution_count": 3,
     "metadata": {},
     "output_type": "execute_result"
    }
   ],
   "source": [
    "df = pd.read_csv('Merged_datasets/Merged_df_original_new.csv')\n",
    "df"
   ]
  },
  {
   "cell_type": "code",
   "execution_count": 4,
   "id": "a48fe09e",
   "metadata": {},
   "outputs": [
    {
     "data": {
      "text/plain": [
       "<seaborn.axisgrid.JointGrid at 0x16d51447d60>"
      ]
     },
     "execution_count": 4,
     "metadata": {},
     "output_type": "execute_result"
    },
    {
     "data": {
      "image/png": "[encoded data removed]",
      "text/plain": [
       "<Figure size 600x600 with 3 Axes>"
      ]
     },
     "metadata": {},
     "output_type": "display_data"
    }
   ],
   "source": [
    "sns.jointplot(data=df, x= 'temperature',y='estimated_stock_pct',kind='hex')"
   ]
  },
  {
   "cell_type": "markdown",
   "id": "e4727f92",
   "metadata": {},
   "source": [
    "## Insight:\n",
    "* We can see that the average hourly temperature  where more products have 0.4 - 0.6 estimated stock pct is between -0.5 to 0 degree and dark spots mean that many products at different hours and varieties had that pc"
   ]
  }
 ],
 "metadata": {
  "kernelspec": {
   "display_name": "Python 3 (ipykernel)",
   "language": "python",
   "name": "python3"
  },
  "language_info": {
   "codemirror_mode": {
    "name": "ipython",
    "version": 3
   },
   "file_extension": ".py",
   "mimetype": "text/x-python",
   "name": "python",
   "nbconvert_exporter": "python",
   "pygments_lexer": "ipython3",
   "version": "3.10.9"
  }
 },
 "nbformat": 4,
 "nbformat_minor": 5
}
